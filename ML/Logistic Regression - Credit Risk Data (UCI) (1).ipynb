{
 "cells": [
  {
   "cell_type": "code",
   "execution_count": 1,
   "metadata": {},
   "outputs": [],
   "source": [
    "import numpy as np\n",
    "import pandas as pd\n",
    "import seaborn as sns\n",
    "import matplotlib as plt"
   ]
  },
  {
   "cell_type": "code",
   "execution_count": 2,
   "metadata": {},
   "outputs": [],
   "source": [
    "df=pd.read_excel(r'C:\\Users\\Akilan\\Downloads\\card_def_data_practice.xlsx',header=0)"
   ]
  },
  {
   "cell_type": "markdown",
   "metadata": {},
   "source": [
    "# Checking the data"
   ]
  },
  {
   "cell_type": "code",
   "execution_count": 3,
   "metadata": {
    "scrolled": true
   },
   "outputs": [
    {
     "data": {
      "text/html": [
       "<div>\n",
       "<style scoped>\n",
       "    .dataframe tbody tr th:only-of-type {\n",
       "        vertical-align: middle;\n",
       "    }\n",
       "\n",
       "    .dataframe tbody tr th {\n",
       "        vertical-align: top;\n",
       "    }\n",
       "\n",
       "    .dataframe thead th {\n",
       "        text-align: right;\n",
       "    }\n",
       "</style>\n",
       "<table border=\"1\" class=\"dataframe\">\n",
       "  <thead>\n",
       "    <tr style=\"text-align: right;\">\n",
       "      <th></th>\n",
       "      <th>ID</th>\n",
       "      <th>LIMIT_BAL</th>\n",
       "      <th>SEX</th>\n",
       "      <th>EDUCATION</th>\n",
       "      <th>MARRIAGE</th>\n",
       "      <th>AGE</th>\n",
       "      <th>PAY_0</th>\n",
       "      <th>PAY_2</th>\n",
       "      <th>PAY_3</th>\n",
       "      <th>PAY_4</th>\n",
       "      <th>...</th>\n",
       "      <th>BILL_AMT4</th>\n",
       "      <th>BILL_AMT5</th>\n",
       "      <th>BILL_AMT6</th>\n",
       "      <th>PAY_AMT1</th>\n",
       "      <th>PAY_AMT2</th>\n",
       "      <th>PAY_AMT3</th>\n",
       "      <th>PAY_AMT4</th>\n",
       "      <th>PAY_AMT5</th>\n",
       "      <th>PAY_AMT6</th>\n",
       "      <th>default payment next month</th>\n",
       "    </tr>\n",
       "  </thead>\n",
       "  <tbody>\n",
       "    <tr>\n",
       "      <th>0</th>\n",
       "      <td>1</td>\n",
       "      <td>20000</td>\n",
       "      <td>2</td>\n",
       "      <td>2</td>\n",
       "      <td>1</td>\n",
       "      <td>24</td>\n",
       "      <td>2</td>\n",
       "      <td>2</td>\n",
       "      <td>-1</td>\n",
       "      <td>-1</td>\n",
       "      <td>...</td>\n",
       "      <td>0</td>\n",
       "      <td>0</td>\n",
       "      <td>0</td>\n",
       "      <td>0</td>\n",
       "      <td>689</td>\n",
       "      <td>0</td>\n",
       "      <td>0</td>\n",
       "      <td>0</td>\n",
       "      <td>0</td>\n",
       "      <td>1</td>\n",
       "    </tr>\n",
       "    <tr>\n",
       "      <th>1</th>\n",
       "      <td>2</td>\n",
       "      <td>120000</td>\n",
       "      <td>2</td>\n",
       "      <td>2</td>\n",
       "      <td>2</td>\n",
       "      <td>26</td>\n",
       "      <td>-1</td>\n",
       "      <td>2</td>\n",
       "      <td>0</td>\n",
       "      <td>0</td>\n",
       "      <td>...</td>\n",
       "      <td>3272</td>\n",
       "      <td>3455</td>\n",
       "      <td>3261</td>\n",
       "      <td>0</td>\n",
       "      <td>1000</td>\n",
       "      <td>1000</td>\n",
       "      <td>1000</td>\n",
       "      <td>0</td>\n",
       "      <td>2000</td>\n",
       "      <td>1</td>\n",
       "    </tr>\n",
       "    <tr>\n",
       "      <th>2</th>\n",
       "      <td>3</td>\n",
       "      <td>90000</td>\n",
       "      <td>2</td>\n",
       "      <td>2</td>\n",
       "      <td>2</td>\n",
       "      <td>34</td>\n",
       "      <td>0</td>\n",
       "      <td>0</td>\n",
       "      <td>0</td>\n",
       "      <td>0</td>\n",
       "      <td>...</td>\n",
       "      <td>14331</td>\n",
       "      <td>14948</td>\n",
       "      <td>15549</td>\n",
       "      <td>1518</td>\n",
       "      <td>1500</td>\n",
       "      <td>1000</td>\n",
       "      <td>1000</td>\n",
       "      <td>1000</td>\n",
       "      <td>5000</td>\n",
       "      <td>0</td>\n",
       "    </tr>\n",
       "    <tr>\n",
       "      <th>3</th>\n",
       "      <td>4</td>\n",
       "      <td>50000</td>\n",
       "      <td>2</td>\n",
       "      <td>2</td>\n",
       "      <td>1</td>\n",
       "      <td>37</td>\n",
       "      <td>0</td>\n",
       "      <td>0</td>\n",
       "      <td>0</td>\n",
       "      <td>0</td>\n",
       "      <td>...</td>\n",
       "      <td>28314</td>\n",
       "      <td>28959</td>\n",
       "      <td>29547</td>\n",
       "      <td>2000</td>\n",
       "      <td>2019</td>\n",
       "      <td>1200</td>\n",
       "      <td>1100</td>\n",
       "      <td>1069</td>\n",
       "      <td>1000</td>\n",
       "      <td>0</td>\n",
       "    </tr>\n",
       "    <tr>\n",
       "      <th>4</th>\n",
       "      <td>5</td>\n",
       "      <td>50000</td>\n",
       "      <td>1</td>\n",
       "      <td>2</td>\n",
       "      <td>1</td>\n",
       "      <td>57</td>\n",
       "      <td>-1</td>\n",
       "      <td>0</td>\n",
       "      <td>-1</td>\n",
       "      <td>0</td>\n",
       "      <td>...</td>\n",
       "      <td>20940</td>\n",
       "      <td>19146</td>\n",
       "      <td>19131</td>\n",
       "      <td>2000</td>\n",
       "      <td>36681</td>\n",
       "      <td>10000</td>\n",
       "      <td>9000</td>\n",
       "      <td>689</td>\n",
       "      <td>679</td>\n",
       "      <td>0</td>\n",
       "    </tr>\n",
       "  </tbody>\n",
       "</table>\n",
       "<p>5 rows × 25 columns</p>\n",
       "</div>"
      ],
      "text/plain": [
       "   ID  LIMIT_BAL  SEX  EDUCATION  MARRIAGE  AGE  PAY_0  PAY_2  PAY_3  PAY_4  \\\n",
       "0   1      20000    2          2         1   24      2      2     -1     -1   \n",
       "1   2     120000    2          2         2   26     -1      2      0      0   \n",
       "2   3      90000    2          2         2   34      0      0      0      0   \n",
       "3   4      50000    2          2         1   37      0      0      0      0   \n",
       "4   5      50000    1          2         1   57     -1      0     -1      0   \n",
       "\n",
       "   ...  BILL_AMT4  BILL_AMT5  BILL_AMT6  PAY_AMT1  PAY_AMT2  PAY_AMT3  \\\n",
       "0  ...          0          0          0         0       689         0   \n",
       "1  ...       3272       3455       3261         0      1000      1000   \n",
       "2  ...      14331      14948      15549      1518      1500      1000   \n",
       "3  ...      28314      28959      29547      2000      2019      1200   \n",
       "4  ...      20940      19146      19131      2000     36681     10000   \n",
       "\n",
       "   PAY_AMT4  PAY_AMT5  PAY_AMT6  default payment next month  \n",
       "0         0         0         0                           1  \n",
       "1      1000         0      2000                           1  \n",
       "2      1000      1000      5000                           0  \n",
       "3      1100      1069      1000                           0  \n",
       "4      9000       689       679                           0  \n",
       "\n",
       "[5 rows x 25 columns]"
      ]
     },
     "execution_count": 3,
     "metadata": {},
     "output_type": "execute_result"
    }
   ],
   "source": [
    "df.head()"
   ]
  },
  {
   "cell_type": "code",
   "execution_count": 4,
   "metadata": {
    "scrolled": false
   },
   "outputs": [
    {
     "data": {
      "text/plain": [
       "ID                            int64\n",
       "LIMIT_BAL                     int64\n",
       "SEX                           int64\n",
       "EDUCATION                     int64\n",
       "MARRIAGE                      int64\n",
       "AGE                           int64\n",
       "PAY_0                         int64\n",
       "PAY_2                         int64\n",
       "PAY_3                         int64\n",
       "PAY_4                         int64\n",
       "PAY_5                         int64\n",
       "PAY_6                         int64\n",
       "BILL_AMT1                     int64\n",
       "BILL_AMT2                     int64\n",
       "BILL_AMT3                     int64\n",
       "BILL_AMT4                     int64\n",
       "BILL_AMT5                     int64\n",
       "BILL_AMT6                     int64\n",
       "PAY_AMT1                      int64\n",
       "PAY_AMT2                      int64\n",
       "PAY_AMT3                      int64\n",
       "PAY_AMT4                      int64\n",
       "PAY_AMT5                      int64\n",
       "PAY_AMT6                      int64\n",
       "default payment next month    int64\n",
       "dtype: object"
      ]
     },
     "execution_count": 4,
     "metadata": {},
     "output_type": "execute_result"
    }
   ],
   "source": [
    "df.dtypes"
   ]
  },
  {
   "cell_type": "markdown",
   "metadata": {},
   "source": [
    "# Essential Dropping and Renaming Steps"
   ]
  },
  {
   "cell_type": "code",
   "execution_count": 5,
   "metadata": {},
   "outputs": [],
   "source": [
    "df=df.drop(['ID'],axis=1)"
   ]
  },
  {
   "cell_type": "code",
   "execution_count": 6,
   "metadata": {},
   "outputs": [],
   "source": [
    "df=df.rename(columns={'default payment next month':'default'})"
   ]
  },
  {
   "cell_type": "markdown",
   "metadata": {},
   "source": [
    "# Descriptive Statistics"
   ]
  },
  {
   "cell_type": "code",
   "execution_count": 8,
   "metadata": {
    "scrolled": false
   },
   "outputs": [
    {
     "data": {
      "text/html": [
       "<div>\n",
       "<style scoped>\n",
       "    .dataframe tbody tr th:only-of-type {\n",
       "        vertical-align: middle;\n",
       "    }\n",
       "\n",
       "    .dataframe tbody tr th {\n",
       "        vertical-align: top;\n",
       "    }\n",
       "\n",
       "    .dataframe thead th {\n",
       "        text-align: right;\n",
       "    }\n",
       "</style>\n",
       "<table border=\"1\" class=\"dataframe\">\n",
       "  <thead>\n",
       "    <tr style=\"text-align: right;\">\n",
       "      <th></th>\n",
       "      <th>LIMIT_BAL</th>\n",
       "      <th>SEX</th>\n",
       "      <th>EDUCATION</th>\n",
       "      <th>MARRIAGE</th>\n",
       "      <th>AGE</th>\n",
       "      <th>PAY_0</th>\n",
       "      <th>PAY_2</th>\n",
       "      <th>PAY_3</th>\n",
       "      <th>PAY_4</th>\n",
       "      <th>PAY_5</th>\n",
       "      <th>...</th>\n",
       "      <th>BILL_AMT4</th>\n",
       "      <th>BILL_AMT5</th>\n",
       "      <th>BILL_AMT6</th>\n",
       "      <th>PAY_AMT1</th>\n",
       "      <th>PAY_AMT2</th>\n",
       "      <th>PAY_AMT3</th>\n",
       "      <th>PAY_AMT4</th>\n",
       "      <th>PAY_AMT5</th>\n",
       "      <th>PAY_AMT6</th>\n",
       "      <th>default</th>\n",
       "    </tr>\n",
       "  </thead>\n",
       "  <tbody>\n",
       "    <tr>\n",
       "      <th>count</th>\n",
       "      <td>30000.000000</td>\n",
       "      <td>30000.000000</td>\n",
       "      <td>30000.000000</td>\n",
       "      <td>30000.000000</td>\n",
       "      <td>30000.000000</td>\n",
       "      <td>30000.000000</td>\n",
       "      <td>30000.000000</td>\n",
       "      <td>30000.000000</td>\n",
       "      <td>30000.000000</td>\n",
       "      <td>30000.000000</td>\n",
       "      <td>...</td>\n",
       "      <td>30000.000000</td>\n",
       "      <td>30000.000000</td>\n",
       "      <td>30000.000000</td>\n",
       "      <td>30000.000000</td>\n",
       "      <td>3.000000e+04</td>\n",
       "      <td>30000.00000</td>\n",
       "      <td>30000.000000</td>\n",
       "      <td>30000.000000</td>\n",
       "      <td>30000.000000</td>\n",
       "      <td>30000.000000</td>\n",
       "    </tr>\n",
       "    <tr>\n",
       "      <th>mean</th>\n",
       "      <td>167484.322667</td>\n",
       "      <td>1.603733</td>\n",
       "      <td>1.853133</td>\n",
       "      <td>1.551867</td>\n",
       "      <td>35.485500</td>\n",
       "      <td>-0.016700</td>\n",
       "      <td>-0.133767</td>\n",
       "      <td>-0.166200</td>\n",
       "      <td>-0.220667</td>\n",
       "      <td>-0.266200</td>\n",
       "      <td>...</td>\n",
       "      <td>43262.948967</td>\n",
       "      <td>40311.400967</td>\n",
       "      <td>38871.760400</td>\n",
       "      <td>5663.580500</td>\n",
       "      <td>5.921163e+03</td>\n",
       "      <td>5225.68150</td>\n",
       "      <td>4826.076867</td>\n",
       "      <td>4799.387633</td>\n",
       "      <td>5215.502567</td>\n",
       "      <td>0.221200</td>\n",
       "    </tr>\n",
       "    <tr>\n",
       "      <th>std</th>\n",
       "      <td>129747.661567</td>\n",
       "      <td>0.489129</td>\n",
       "      <td>0.790349</td>\n",
       "      <td>0.521970</td>\n",
       "      <td>9.217904</td>\n",
       "      <td>1.123802</td>\n",
       "      <td>1.197186</td>\n",
       "      <td>1.196868</td>\n",
       "      <td>1.169139</td>\n",
       "      <td>1.133187</td>\n",
       "      <td>...</td>\n",
       "      <td>64332.856134</td>\n",
       "      <td>60797.155770</td>\n",
       "      <td>59554.107537</td>\n",
       "      <td>16563.280354</td>\n",
       "      <td>2.304087e+04</td>\n",
       "      <td>17606.96147</td>\n",
       "      <td>15666.159744</td>\n",
       "      <td>15278.305679</td>\n",
       "      <td>17777.465775</td>\n",
       "      <td>0.415062</td>\n",
       "    </tr>\n",
       "    <tr>\n",
       "      <th>min</th>\n",
       "      <td>10000.000000</td>\n",
       "      <td>1.000000</td>\n",
       "      <td>0.000000</td>\n",
       "      <td>0.000000</td>\n",
       "      <td>21.000000</td>\n",
       "      <td>-2.000000</td>\n",
       "      <td>-2.000000</td>\n",
       "      <td>-2.000000</td>\n",
       "      <td>-2.000000</td>\n",
       "      <td>-2.000000</td>\n",
       "      <td>...</td>\n",
       "      <td>-170000.000000</td>\n",
       "      <td>-81334.000000</td>\n",
       "      <td>-339603.000000</td>\n",
       "      <td>0.000000</td>\n",
       "      <td>0.000000e+00</td>\n",
       "      <td>0.00000</td>\n",
       "      <td>0.000000</td>\n",
       "      <td>0.000000</td>\n",
       "      <td>0.000000</td>\n",
       "      <td>0.000000</td>\n",
       "    </tr>\n",
       "    <tr>\n",
       "      <th>1%</th>\n",
       "      <td>10000.000000</td>\n",
       "      <td>1.000000</td>\n",
       "      <td>1.000000</td>\n",
       "      <td>1.000000</td>\n",
       "      <td>22.000000</td>\n",
       "      <td>-2.000000</td>\n",
       "      <td>-2.000000</td>\n",
       "      <td>-2.000000</td>\n",
       "      <td>-2.000000</td>\n",
       "      <td>-2.000000</td>\n",
       "      <td>...</td>\n",
       "      <td>-212.020000</td>\n",
       "      <td>-232.010000</td>\n",
       "      <td>-331.030000</td>\n",
       "      <td>0.000000</td>\n",
       "      <td>0.000000e+00</td>\n",
       "      <td>0.00000</td>\n",
       "      <td>0.000000</td>\n",
       "      <td>0.000000</td>\n",
       "      <td>0.000000</td>\n",
       "      <td>0.000000</td>\n",
       "    </tr>\n",
       "    <tr>\n",
       "      <th>5%</th>\n",
       "      <td>20000.000000</td>\n",
       "      <td>1.000000</td>\n",
       "      <td>1.000000</td>\n",
       "      <td>1.000000</td>\n",
       "      <td>23.000000</td>\n",
       "      <td>-2.000000</td>\n",
       "      <td>-2.000000</td>\n",
       "      <td>-2.000000</td>\n",
       "      <td>-2.000000</td>\n",
       "      <td>-2.000000</td>\n",
       "      <td>...</td>\n",
       "      <td>0.000000</td>\n",
       "      <td>0.000000</td>\n",
       "      <td>0.000000</td>\n",
       "      <td>0.000000</td>\n",
       "      <td>0.000000e+00</td>\n",
       "      <td>0.00000</td>\n",
       "      <td>0.000000</td>\n",
       "      <td>0.000000</td>\n",
       "      <td>0.000000</td>\n",
       "      <td>0.000000</td>\n",
       "    </tr>\n",
       "    <tr>\n",
       "      <th>10%</th>\n",
       "      <td>30000.000000</td>\n",
       "      <td>1.000000</td>\n",
       "      <td>1.000000</td>\n",
       "      <td>1.000000</td>\n",
       "      <td>25.000000</td>\n",
       "      <td>-1.000000</td>\n",
       "      <td>-2.000000</td>\n",
       "      <td>-2.000000</td>\n",
       "      <td>-2.000000</td>\n",
       "      <td>-2.000000</td>\n",
       "      <td>...</td>\n",
       "      <td>0.000000</td>\n",
       "      <td>0.000000</td>\n",
       "      <td>0.000000</td>\n",
       "      <td>0.000000</td>\n",
       "      <td>0.000000e+00</td>\n",
       "      <td>0.00000</td>\n",
       "      <td>0.000000</td>\n",
       "      <td>0.000000</td>\n",
       "      <td>0.000000</td>\n",
       "      <td>0.000000</td>\n",
       "    </tr>\n",
       "    <tr>\n",
       "      <th>25%</th>\n",
       "      <td>50000.000000</td>\n",
       "      <td>1.000000</td>\n",
       "      <td>1.000000</td>\n",
       "      <td>1.000000</td>\n",
       "      <td>28.000000</td>\n",
       "      <td>-1.000000</td>\n",
       "      <td>-1.000000</td>\n",
       "      <td>-1.000000</td>\n",
       "      <td>-1.000000</td>\n",
       "      <td>-1.000000</td>\n",
       "      <td>...</td>\n",
       "      <td>2326.750000</td>\n",
       "      <td>1763.000000</td>\n",
       "      <td>1256.000000</td>\n",
       "      <td>1000.000000</td>\n",
       "      <td>8.330000e+02</td>\n",
       "      <td>390.00000</td>\n",
       "      <td>296.000000</td>\n",
       "      <td>252.500000</td>\n",
       "      <td>117.750000</td>\n",
       "      <td>0.000000</td>\n",
       "    </tr>\n",
       "    <tr>\n",
       "      <th>50%</th>\n",
       "      <td>140000.000000</td>\n",
       "      <td>2.000000</td>\n",
       "      <td>2.000000</td>\n",
       "      <td>2.000000</td>\n",
       "      <td>34.000000</td>\n",
       "      <td>0.000000</td>\n",
       "      <td>0.000000</td>\n",
       "      <td>0.000000</td>\n",
       "      <td>0.000000</td>\n",
       "      <td>0.000000</td>\n",
       "      <td>...</td>\n",
       "      <td>19052.000000</td>\n",
       "      <td>18104.500000</td>\n",
       "      <td>17071.000000</td>\n",
       "      <td>2100.000000</td>\n",
       "      <td>2.009000e+03</td>\n",
       "      <td>1800.00000</td>\n",
       "      <td>1500.000000</td>\n",
       "      <td>1500.000000</td>\n",
       "      <td>1500.000000</td>\n",
       "      <td>0.000000</td>\n",
       "    </tr>\n",
       "    <tr>\n",
       "      <th>75%</th>\n",
       "      <td>240000.000000</td>\n",
       "      <td>2.000000</td>\n",
       "      <td>2.000000</td>\n",
       "      <td>2.000000</td>\n",
       "      <td>41.000000</td>\n",
       "      <td>0.000000</td>\n",
       "      <td>0.000000</td>\n",
       "      <td>0.000000</td>\n",
       "      <td>0.000000</td>\n",
       "      <td>0.000000</td>\n",
       "      <td>...</td>\n",
       "      <td>54506.000000</td>\n",
       "      <td>50190.500000</td>\n",
       "      <td>49198.250000</td>\n",
       "      <td>5006.000000</td>\n",
       "      <td>5.000000e+03</td>\n",
       "      <td>4505.00000</td>\n",
       "      <td>4013.250000</td>\n",
       "      <td>4031.500000</td>\n",
       "      <td>4000.000000</td>\n",
       "      <td>0.000000</td>\n",
       "    </tr>\n",
       "    <tr>\n",
       "      <th>90%</th>\n",
       "      <td>360000.000000</td>\n",
       "      <td>2.000000</td>\n",
       "      <td>3.000000</td>\n",
       "      <td>2.000000</td>\n",
       "      <td>49.000000</td>\n",
       "      <td>2.000000</td>\n",
       "      <td>2.000000</td>\n",
       "      <td>2.000000</td>\n",
       "      <td>2.000000</td>\n",
       "      <td>0.000000</td>\n",
       "      <td>...</td>\n",
       "      <td>122418.700000</td>\n",
       "      <td>115883.000000</td>\n",
       "      <td>112110.400000</td>\n",
       "      <td>10300.000000</td>\n",
       "      <td>1.040110e+04</td>\n",
       "      <td>10000.00000</td>\n",
       "      <td>9570.600000</td>\n",
       "      <td>9500.000000</td>\n",
       "      <td>9600.000000</td>\n",
       "      <td>1.000000</td>\n",
       "    </tr>\n",
       "    <tr>\n",
       "      <th>99%</th>\n",
       "      <td>500000.000000</td>\n",
       "      <td>2.000000</td>\n",
       "      <td>5.000000</td>\n",
       "      <td>3.000000</td>\n",
       "      <td>60.000000</td>\n",
       "      <td>3.000000</td>\n",
       "      <td>3.000000</td>\n",
       "      <td>3.000000</td>\n",
       "      <td>3.000000</td>\n",
       "      <td>3.000000</td>\n",
       "      <td>...</td>\n",
       "      <td>304997.270000</td>\n",
       "      <td>285868.330000</td>\n",
       "      <td>279505.060000</td>\n",
       "      <td>66522.180000</td>\n",
       "      <td>7.665102e+04</td>\n",
       "      <td>70000.00000</td>\n",
       "      <td>67054.440000</td>\n",
       "      <td>65607.560000</td>\n",
       "      <td>82619.050000</td>\n",
       "      <td>1.000000</td>\n",
       "    </tr>\n",
       "    <tr>\n",
       "      <th>max</th>\n",
       "      <td>1000000.000000</td>\n",
       "      <td>2.000000</td>\n",
       "      <td>6.000000</td>\n",
       "      <td>3.000000</td>\n",
       "      <td>79.000000</td>\n",
       "      <td>8.000000</td>\n",
       "      <td>8.000000</td>\n",
       "      <td>8.000000</td>\n",
       "      <td>8.000000</td>\n",
       "      <td>8.000000</td>\n",
       "      <td>...</td>\n",
       "      <td>891586.000000</td>\n",
       "      <td>927171.000000</td>\n",
       "      <td>961664.000000</td>\n",
       "      <td>873552.000000</td>\n",
       "      <td>1.684259e+06</td>\n",
       "      <td>896040.00000</td>\n",
       "      <td>621000.000000</td>\n",
       "      <td>426529.000000</td>\n",
       "      <td>528666.000000</td>\n",
       "      <td>1.000000</td>\n",
       "    </tr>\n",
       "  </tbody>\n",
       "</table>\n",
       "<p>13 rows × 24 columns</p>\n",
       "</div>"
      ],
      "text/plain": [
       "            LIMIT_BAL           SEX     EDUCATION      MARRIAGE           AGE  \\\n",
       "count    30000.000000  30000.000000  30000.000000  30000.000000  30000.000000   \n",
       "mean    167484.322667      1.603733      1.853133      1.551867     35.485500   \n",
       "std     129747.661567      0.489129      0.790349      0.521970      9.217904   \n",
       "min      10000.000000      1.000000      0.000000      0.000000     21.000000   \n",
       "1%       10000.000000      1.000000      1.000000      1.000000     22.000000   \n",
       "5%       20000.000000      1.000000      1.000000      1.000000     23.000000   \n",
       "10%      30000.000000      1.000000      1.000000      1.000000     25.000000   \n",
       "25%      50000.000000      1.000000      1.000000      1.000000     28.000000   \n",
       "50%     140000.000000      2.000000      2.000000      2.000000     34.000000   \n",
       "75%     240000.000000      2.000000      2.000000      2.000000     41.000000   \n",
       "90%     360000.000000      2.000000      3.000000      2.000000     49.000000   \n",
       "99%     500000.000000      2.000000      5.000000      3.000000     60.000000   \n",
       "max    1000000.000000      2.000000      6.000000      3.000000     79.000000   \n",
       "\n",
       "              PAY_0         PAY_2         PAY_3         PAY_4         PAY_5  \\\n",
       "count  30000.000000  30000.000000  30000.000000  30000.000000  30000.000000   \n",
       "mean      -0.016700     -0.133767     -0.166200     -0.220667     -0.266200   \n",
       "std        1.123802      1.197186      1.196868      1.169139      1.133187   \n",
       "min       -2.000000     -2.000000     -2.000000     -2.000000     -2.000000   \n",
       "1%        -2.000000     -2.000000     -2.000000     -2.000000     -2.000000   \n",
       "5%        -2.000000     -2.000000     -2.000000     -2.000000     -2.000000   \n",
       "10%       -1.000000     -2.000000     -2.000000     -2.000000     -2.000000   \n",
       "25%       -1.000000     -1.000000     -1.000000     -1.000000     -1.000000   \n",
       "50%        0.000000      0.000000      0.000000      0.000000      0.000000   \n",
       "75%        0.000000      0.000000      0.000000      0.000000      0.000000   \n",
       "90%        2.000000      2.000000      2.000000      2.000000      0.000000   \n",
       "99%        3.000000      3.000000      3.000000      3.000000      3.000000   \n",
       "max        8.000000      8.000000      8.000000      8.000000      8.000000   \n",
       "\n",
       "       ...      BILL_AMT4      BILL_AMT5      BILL_AMT6       PAY_AMT1  \\\n",
       "count  ...   30000.000000   30000.000000   30000.000000   30000.000000   \n",
       "mean   ...   43262.948967   40311.400967   38871.760400    5663.580500   \n",
       "std    ...   64332.856134   60797.155770   59554.107537   16563.280354   \n",
       "min    ... -170000.000000  -81334.000000 -339603.000000       0.000000   \n",
       "1%     ...    -212.020000    -232.010000    -331.030000       0.000000   \n",
       "5%     ...       0.000000       0.000000       0.000000       0.000000   \n",
       "10%    ...       0.000000       0.000000       0.000000       0.000000   \n",
       "25%    ...    2326.750000    1763.000000    1256.000000    1000.000000   \n",
       "50%    ...   19052.000000   18104.500000   17071.000000    2100.000000   \n",
       "75%    ...   54506.000000   50190.500000   49198.250000    5006.000000   \n",
       "90%    ...  122418.700000  115883.000000  112110.400000   10300.000000   \n",
       "99%    ...  304997.270000  285868.330000  279505.060000   66522.180000   \n",
       "max    ...  891586.000000  927171.000000  961664.000000  873552.000000   \n",
       "\n",
       "           PAY_AMT2      PAY_AMT3       PAY_AMT4       PAY_AMT5  \\\n",
       "count  3.000000e+04   30000.00000   30000.000000   30000.000000   \n",
       "mean   5.921163e+03    5225.68150    4826.076867    4799.387633   \n",
       "std    2.304087e+04   17606.96147   15666.159744   15278.305679   \n",
       "min    0.000000e+00       0.00000       0.000000       0.000000   \n",
       "1%     0.000000e+00       0.00000       0.000000       0.000000   \n",
       "5%     0.000000e+00       0.00000       0.000000       0.000000   \n",
       "10%    0.000000e+00       0.00000       0.000000       0.000000   \n",
       "25%    8.330000e+02     390.00000     296.000000     252.500000   \n",
       "50%    2.009000e+03    1800.00000    1500.000000    1500.000000   \n",
       "75%    5.000000e+03    4505.00000    4013.250000    4031.500000   \n",
       "90%    1.040110e+04   10000.00000    9570.600000    9500.000000   \n",
       "99%    7.665102e+04   70000.00000   67054.440000   65607.560000   \n",
       "max    1.684259e+06  896040.00000  621000.000000  426529.000000   \n",
       "\n",
       "            PAY_AMT6       default  \n",
       "count   30000.000000  30000.000000  \n",
       "mean     5215.502567      0.221200  \n",
       "std     17777.465775      0.415062  \n",
       "min         0.000000      0.000000  \n",
       "1%          0.000000      0.000000  \n",
       "5%          0.000000      0.000000  \n",
       "10%         0.000000      0.000000  \n",
       "25%       117.750000      0.000000  \n",
       "50%      1500.000000      0.000000  \n",
       "75%      4000.000000      0.000000  \n",
       "90%      9600.000000      1.000000  \n",
       "99%     82619.050000      1.000000  \n",
       "max    528666.000000      1.000000  \n",
       "\n",
       "[13 rows x 24 columns]"
      ]
     },
     "execution_count": 8,
     "metadata": {},
     "output_type": "execute_result"
    }
   ],
   "source": [
    "df.describe(percentiles=[0.01,0.05,0.10,0.25,0.50,0.75,0.90,0.99])"
   ]
  },
  {
   "cell_type": "code",
   "execution_count": 9,
   "metadata": {},
   "outputs": [
    {
     "data": {
      "text/plain": [
       "LIMIT_BAL    500000.00\n",
       "SEX               2.00\n",
       "EDUCATION         5.00\n",
       "MARRIAGE          3.00\n",
       "AGE              60.00\n",
       "PAY_0             3.00\n",
       "PAY_2             3.00\n",
       "PAY_3             3.00\n",
       "PAY_4             3.00\n",
       "PAY_5             3.00\n",
       "PAY_6             3.00\n",
       "BILL_AMT1    350110.68\n",
       "BILL_AMT2    337495.28\n",
       "BILL_AMT3    325030.39\n",
       "BILL_AMT4    304997.27\n",
       "BILL_AMT5    285868.33\n",
       "BILL_AMT6    279505.06\n",
       "PAY_AMT1      66522.18\n",
       "PAY_AMT2      76651.02\n",
       "PAY_AMT3      70000.00\n",
       "PAY_AMT4      67054.44\n",
       "PAY_AMT5      65607.56\n",
       "PAY_AMT6      82619.05\n",
       "default           1.00\n",
       "Name: 0.99, dtype: float64"
      ]
     },
     "execution_count": 9,
     "metadata": {},
     "output_type": "execute_result"
    }
   ],
   "source": [
    "df.quantile(0.99)"
   ]
  },
  {
   "cell_type": "markdown",
   "metadata": {},
   "source": [
    "# Missing Value Check"
   ]
  },
  {
   "cell_type": "code",
   "execution_count": 10,
   "metadata": {
    "scrolled": true
   },
   "outputs": [
    {
     "data": {
      "text/plain": [
       "LIMIT_BAL    0.0\n",
       "SEX          0.0\n",
       "EDUCATION    0.0\n",
       "MARRIAGE     0.0\n",
       "AGE          0.0\n",
       "PAY_0        0.0\n",
       "PAY_2        0.0\n",
       "PAY_3        0.0\n",
       "PAY_4        0.0\n",
       "PAY_5        0.0\n",
       "PAY_6        0.0\n",
       "BILL_AMT1    0.0\n",
       "BILL_AMT2    0.0\n",
       "BILL_AMT3    0.0\n",
       "BILL_AMT4    0.0\n",
       "BILL_AMT5    0.0\n",
       "BILL_AMT6    0.0\n",
       "PAY_AMT1     0.0\n",
       "PAY_AMT2     0.0\n",
       "PAY_AMT3     0.0\n",
       "PAY_AMT4     0.0\n",
       "PAY_AMT5     0.0\n",
       "PAY_AMT6     0.0\n",
       "default      0.0\n",
       "dtype: float64"
      ]
     },
     "execution_count": 10,
     "metadata": {},
     "output_type": "execute_result"
    }
   ],
   "source": [
    "df.isnull().sum()/df.count()"
   ]
  },
  {
   "cell_type": "markdown",
   "metadata": {},
   "source": [
    "# Split Dependent and Independent"
   ]
  },
  {
   "cell_type": "code",
   "execution_count": 11,
   "metadata": {},
   "outputs": [],
   "source": [
    "X=df.drop('default', axis=1)\n",
    "Y=df['default']"
   ]
  },
  {
   "cell_type": "markdown",
   "metadata": {},
   "source": [
    "# Capping and Flooring of Outliers if Present"
   ]
  },
  {
   "cell_type": "code",
   "execution_count": 14,
   "metadata": {},
   "outputs": [],
   "source": [
    "def outlier_capping(x):\n",
    "    x = x.clip(upper=x.quantile(0.99))\n",
    "    x = x.clip(lower=x.quantile(0.01))\n",
    "    return x"
   ]
  },
  {
   "cell_type": "code",
   "execution_count": 15,
   "metadata": {
    "scrolled": true
   },
   "outputs": [
    {
     "data": {
      "text/html": [
       "<div>\n",
       "<style scoped>\n",
       "    .dataframe tbody tr th:only-of-type {\n",
       "        vertical-align: middle;\n",
       "    }\n",
       "\n",
       "    .dataframe tbody tr th {\n",
       "        vertical-align: top;\n",
       "    }\n",
       "\n",
       "    .dataframe thead th {\n",
       "        text-align: right;\n",
       "    }\n",
       "</style>\n",
       "<table border=\"1\" class=\"dataframe\">\n",
       "  <thead>\n",
       "    <tr style=\"text-align: right;\">\n",
       "      <th></th>\n",
       "      <th>LIMIT_BAL</th>\n",
       "      <th>SEX</th>\n",
       "      <th>EDUCATION</th>\n",
       "      <th>MARRIAGE</th>\n",
       "      <th>AGE</th>\n",
       "      <th>PAY_0</th>\n",
       "      <th>PAY_2</th>\n",
       "      <th>PAY_3</th>\n",
       "      <th>PAY_4</th>\n",
       "      <th>PAY_5</th>\n",
       "      <th>...</th>\n",
       "      <th>BILL_AMT3</th>\n",
       "      <th>BILL_AMT4</th>\n",
       "      <th>BILL_AMT5</th>\n",
       "      <th>BILL_AMT6</th>\n",
       "      <th>PAY_AMT1</th>\n",
       "      <th>PAY_AMT2</th>\n",
       "      <th>PAY_AMT3</th>\n",
       "      <th>PAY_AMT4</th>\n",
       "      <th>PAY_AMT5</th>\n",
       "      <th>PAY_AMT6</th>\n",
       "    </tr>\n",
       "  </thead>\n",
       "  <tbody>\n",
       "    <tr>\n",
       "      <th>count</th>\n",
       "      <td>30000.000000</td>\n",
       "      <td>30000.000000</td>\n",
       "      <td>30000.000000</td>\n",
       "      <td>30000.000000</td>\n",
       "      <td>30000.000000</td>\n",
       "      <td>30000.000000</td>\n",
       "      <td>30000.000000</td>\n",
       "      <td>30000.000000</td>\n",
       "      <td>30000.000000</td>\n",
       "      <td>30000.000000</td>\n",
       "      <td>...</td>\n",
       "      <td>30000.000000</td>\n",
       "      <td>30000.000000</td>\n",
       "      <td>30000.000000</td>\n",
       "      <td>30000.000000</td>\n",
       "      <td>30000.000000</td>\n",
       "      <td>30000.000000</td>\n",
       "      <td>30000.000000</td>\n",
       "      <td>30000.000000</td>\n",
       "      <td>30000.000000</td>\n",
       "      <td>30000.000000</td>\n",
       "    </tr>\n",
       "    <tr>\n",
       "      <th>mean</th>\n",
       "      <td>166808.656000</td>\n",
       "      <td>1.603733</td>\n",
       "      <td>1.851900</td>\n",
       "      <td>1.553667</td>\n",
       "      <td>35.447167</td>\n",
       "      <td>-0.026433</td>\n",
       "      <td>-0.142767</td>\n",
       "      <td>-0.176533</td>\n",
       "      <td>-0.233867</td>\n",
       "      <td>-0.278433</td>\n",
       "      <td>...</td>\n",
       "      <td>46174.230967</td>\n",
       "      <td>42510.317067</td>\n",
       "      <td>39581.215733</td>\n",
       "      <td>38200.797233</td>\n",
       "      <td>5029.561633</td>\n",
       "      <td>5088.719567</td>\n",
       "      <td>4555.447400</td>\n",
       "      <td>4246.447100</td>\n",
       "      <td>4200.113300</td>\n",
       "      <td>4553.894133</td>\n",
       "    </tr>\n",
       "    <tr>\n",
       "      <th>std</th>\n",
       "      <td>127584.472995</td>\n",
       "      <td>0.489129</td>\n",
       "      <td>0.781656</td>\n",
       "      <td>0.518326</td>\n",
       "      <td>9.090242</td>\n",
       "      <td>1.083593</td>\n",
       "      <td>1.164057</td>\n",
       "      <td>1.156639</td>\n",
       "      <td>1.113829</td>\n",
       "      <td>1.079821</td>\n",
       "      <td>...</td>\n",
       "      <td>64352.130474</td>\n",
       "      <td>60049.132356</td>\n",
       "      <td>56585.314536</td>\n",
       "      <td>55409.361537</td>\n",
       "      <td>9430.870444</td>\n",
       "      <td>10341.622162</td>\n",
       "      <td>9560.267421</td>\n",
       "      <td>9272.507135</td>\n",
       "      <td>9063.279373</td>\n",
       "      <td>11039.458690</td>\n",
       "    </tr>\n",
       "    <tr>\n",
       "      <th>min</th>\n",
       "      <td>10000.000000</td>\n",
       "      <td>1.000000</td>\n",
       "      <td>1.000000</td>\n",
       "      <td>1.000000</td>\n",
       "      <td>22.000000</td>\n",
       "      <td>-2.000000</td>\n",
       "      <td>-2.000000</td>\n",
       "      <td>-2.000000</td>\n",
       "      <td>-2.000000</td>\n",
       "      <td>-2.000000</td>\n",
       "      <td>...</td>\n",
       "      <td>-200.000000</td>\n",
       "      <td>-212.020000</td>\n",
       "      <td>-232.010000</td>\n",
       "      <td>-331.030000</td>\n",
       "      <td>0.000000</td>\n",
       "      <td>0.000000</td>\n",
       "      <td>0.000000</td>\n",
       "      <td>0.000000</td>\n",
       "      <td>0.000000</td>\n",
       "      <td>0.000000</td>\n",
       "    </tr>\n",
       "    <tr>\n",
       "      <th>25%</th>\n",
       "      <td>50000.000000</td>\n",
       "      <td>1.000000</td>\n",
       "      <td>1.000000</td>\n",
       "      <td>1.000000</td>\n",
       "      <td>28.000000</td>\n",
       "      <td>-1.000000</td>\n",
       "      <td>-1.000000</td>\n",
       "      <td>-1.000000</td>\n",
       "      <td>-1.000000</td>\n",
       "      <td>-1.000000</td>\n",
       "      <td>...</td>\n",
       "      <td>2666.250000</td>\n",
       "      <td>2326.750000</td>\n",
       "      <td>1763.000000</td>\n",
       "      <td>1256.000000</td>\n",
       "      <td>1000.000000</td>\n",
       "      <td>833.000000</td>\n",
       "      <td>390.000000</td>\n",
       "      <td>296.000000</td>\n",
       "      <td>252.500000</td>\n",
       "      <td>117.750000</td>\n",
       "    </tr>\n",
       "    <tr>\n",
       "      <th>50%</th>\n",
       "      <td>140000.000000</td>\n",
       "      <td>2.000000</td>\n",
       "      <td>2.000000</td>\n",
       "      <td>2.000000</td>\n",
       "      <td>34.000000</td>\n",
       "      <td>0.000000</td>\n",
       "      <td>0.000000</td>\n",
       "      <td>0.000000</td>\n",
       "      <td>0.000000</td>\n",
       "      <td>0.000000</td>\n",
       "      <td>...</td>\n",
       "      <td>20088.500000</td>\n",
       "      <td>19052.000000</td>\n",
       "      <td>18104.500000</td>\n",
       "      <td>17071.000000</td>\n",
       "      <td>2100.000000</td>\n",
       "      <td>2009.000000</td>\n",
       "      <td>1800.000000</td>\n",
       "      <td>1500.000000</td>\n",
       "      <td>1500.000000</td>\n",
       "      <td>1500.000000</td>\n",
       "    </tr>\n",
       "    <tr>\n",
       "      <th>75%</th>\n",
       "      <td>240000.000000</td>\n",
       "      <td>2.000000</td>\n",
       "      <td>2.000000</td>\n",
       "      <td>2.000000</td>\n",
       "      <td>41.000000</td>\n",
       "      <td>0.000000</td>\n",
       "      <td>0.000000</td>\n",
       "      <td>0.000000</td>\n",
       "      <td>0.000000</td>\n",
       "      <td>0.000000</td>\n",
       "      <td>...</td>\n",
       "      <td>60164.750000</td>\n",
       "      <td>54506.000000</td>\n",
       "      <td>50190.500000</td>\n",
       "      <td>49198.250000</td>\n",
       "      <td>5006.000000</td>\n",
       "      <td>5000.000000</td>\n",
       "      <td>4505.000000</td>\n",
       "      <td>4013.250000</td>\n",
       "      <td>4031.500000</td>\n",
       "      <td>4000.000000</td>\n",
       "    </tr>\n",
       "    <tr>\n",
       "      <th>max</th>\n",
       "      <td>500000.000000</td>\n",
       "      <td>2.000000</td>\n",
       "      <td>5.000000</td>\n",
       "      <td>3.000000</td>\n",
       "      <td>60.000000</td>\n",
       "      <td>3.000000</td>\n",
       "      <td>3.000000</td>\n",
       "      <td>3.000000</td>\n",
       "      <td>3.000000</td>\n",
       "      <td>3.000000</td>\n",
       "      <td>...</td>\n",
       "      <td>325030.390000</td>\n",
       "      <td>304997.270000</td>\n",
       "      <td>285868.330000</td>\n",
       "      <td>279505.060000</td>\n",
       "      <td>66522.180000</td>\n",
       "      <td>76651.020000</td>\n",
       "      <td>70000.000000</td>\n",
       "      <td>67054.440000</td>\n",
       "      <td>65607.560000</td>\n",
       "      <td>82619.050000</td>\n",
       "    </tr>\n",
       "  </tbody>\n",
       "</table>\n",
       "<p>8 rows × 23 columns</p>\n",
       "</div>"
      ],
      "text/plain": [
       "           LIMIT_BAL           SEX     EDUCATION      MARRIAGE           AGE  \\\n",
       "count   30000.000000  30000.000000  30000.000000  30000.000000  30000.000000   \n",
       "mean   166808.656000      1.603733      1.851900      1.553667     35.447167   \n",
       "std    127584.472995      0.489129      0.781656      0.518326      9.090242   \n",
       "min     10000.000000      1.000000      1.000000      1.000000     22.000000   \n",
       "25%     50000.000000      1.000000      1.000000      1.000000     28.000000   \n",
       "50%    140000.000000      2.000000      2.000000      2.000000     34.000000   \n",
       "75%    240000.000000      2.000000      2.000000      2.000000     41.000000   \n",
       "max    500000.000000      2.000000      5.000000      3.000000     60.000000   \n",
       "\n",
       "              PAY_0         PAY_2         PAY_3         PAY_4         PAY_5  \\\n",
       "count  30000.000000  30000.000000  30000.000000  30000.000000  30000.000000   \n",
       "mean      -0.026433     -0.142767     -0.176533     -0.233867     -0.278433   \n",
       "std        1.083593      1.164057      1.156639      1.113829      1.079821   \n",
       "min       -2.000000     -2.000000     -2.000000     -2.000000     -2.000000   \n",
       "25%       -1.000000     -1.000000     -1.000000     -1.000000     -1.000000   \n",
       "50%        0.000000      0.000000      0.000000      0.000000      0.000000   \n",
       "75%        0.000000      0.000000      0.000000      0.000000      0.000000   \n",
       "max        3.000000      3.000000      3.000000      3.000000      3.000000   \n",
       "\n",
       "       ...      BILL_AMT3      BILL_AMT4      BILL_AMT5      BILL_AMT6  \\\n",
       "count  ...   30000.000000   30000.000000   30000.000000   30000.000000   \n",
       "mean   ...   46174.230967   42510.317067   39581.215733   38200.797233   \n",
       "std    ...   64352.130474   60049.132356   56585.314536   55409.361537   \n",
       "min    ...    -200.000000    -212.020000    -232.010000    -331.030000   \n",
       "25%    ...    2666.250000    2326.750000    1763.000000    1256.000000   \n",
       "50%    ...   20088.500000   19052.000000   18104.500000   17071.000000   \n",
       "75%    ...   60164.750000   54506.000000   50190.500000   49198.250000   \n",
       "max    ...  325030.390000  304997.270000  285868.330000  279505.060000   \n",
       "\n",
       "           PAY_AMT1      PAY_AMT2      PAY_AMT3      PAY_AMT4      PAY_AMT5  \\\n",
       "count  30000.000000  30000.000000  30000.000000  30000.000000  30000.000000   \n",
       "mean    5029.561633   5088.719567   4555.447400   4246.447100   4200.113300   \n",
       "std     9430.870444  10341.622162   9560.267421   9272.507135   9063.279373   \n",
       "min        0.000000      0.000000      0.000000      0.000000      0.000000   \n",
       "25%     1000.000000    833.000000    390.000000    296.000000    252.500000   \n",
       "50%     2100.000000   2009.000000   1800.000000   1500.000000   1500.000000   \n",
       "75%     5006.000000   5000.000000   4505.000000   4013.250000   4031.500000   \n",
       "max    66522.180000  76651.020000  70000.000000  67054.440000  65607.560000   \n",
       "\n",
       "           PAY_AMT6  \n",
       "count  30000.000000  \n",
       "mean    4553.894133  \n",
       "std    11039.458690  \n",
       "min        0.000000  \n",
       "25%      117.750000  \n",
       "50%     1500.000000  \n",
       "75%     4000.000000  \n",
       "max    82619.050000  \n",
       "\n",
       "[8 rows x 23 columns]"
      ]
     },
     "execution_count": 15,
     "metadata": {},
     "output_type": "execute_result"
    }
   ],
   "source": [
    "X=X.apply(lambda x: outlier_capping(x))\n",
    "X.describe()"
   ]
  },
  {
   "cell_type": "code",
   "execution_count": 23,
   "metadata": {},
   "outputs": [
    {
     "data": {
      "text/plain": [
       "LIMIT_BAL    float64\n",
       "SEX          float64\n",
       "EDUCATION    float64\n",
       "MARRIAGE     float64\n",
       "AGE          float64\n",
       "PAY_0        float64\n",
       "PAY_2        float64\n",
       "PAY_3        float64\n",
       "PAY_4        float64\n",
       "PAY_5        float64\n",
       "PAY_6        float64\n",
       "BILL_AMT1    float64\n",
       "BILL_AMT2    float64\n",
       "BILL_AMT3    float64\n",
       "BILL_AMT4    float64\n",
       "BILL_AMT5    float64\n",
       "BILL_AMT6    float64\n",
       "PAY_AMT1     float64\n",
       "PAY_AMT2     float64\n",
       "PAY_AMT3     float64\n",
       "PAY_AMT4     float64\n",
       "PAY_AMT5     float64\n",
       "PAY_AMT6     float64\n",
       "dtype: object"
      ]
     },
     "execution_count": 23,
     "metadata": {},
     "output_type": "execute_result"
    }
   ],
   "source": [
    "X.dtypes"
   ]
  },
  {
   "cell_type": "markdown",
   "metadata": {},
   "source": [
    "# Let's Create some features based on Business Logic"
   ]
  },
  {
   "cell_type": "code",
   "execution_count": 16,
   "metadata": {
    "scrolled": false
   },
   "outputs": [
    {
     "data": {
      "text/html": [
       "<div>\n",
       "<style scoped>\n",
       "    .dataframe tbody tr th:only-of-type {\n",
       "        vertical-align: middle;\n",
       "    }\n",
       "\n",
       "    .dataframe tbody tr th {\n",
       "        vertical-align: top;\n",
       "    }\n",
       "\n",
       "    .dataframe thead th {\n",
       "        text-align: right;\n",
       "    }\n",
       "</style>\n",
       "<table border=\"1\" class=\"dataframe\">\n",
       "  <thead>\n",
       "    <tr style=\"text-align: right;\">\n",
       "      <th></th>\n",
       "      <th>LIMIT_BAL</th>\n",
       "      <th>SEX</th>\n",
       "      <th>EDUCATION</th>\n",
       "      <th>MARRIAGE</th>\n",
       "      <th>AGE</th>\n",
       "      <th>PAY_0</th>\n",
       "      <th>PAY_2</th>\n",
       "      <th>PAY_3</th>\n",
       "      <th>PAY_4</th>\n",
       "      <th>PAY_5</th>\n",
       "      <th>...</th>\n",
       "      <th>PAY_AMT1</th>\n",
       "      <th>PAY_AMT2</th>\n",
       "      <th>PAY_AMT3</th>\n",
       "      <th>PAY_AMT4</th>\n",
       "      <th>PAY_AMT5</th>\n",
       "      <th>PAY_AMT6</th>\n",
       "      <th>Avg_Pay_Last6m</th>\n",
       "      <th>Max_Pay_Last6m</th>\n",
       "      <th>Avg_Bill_Amt_Last6m</th>\n",
       "      <th>Max_Bill_Amt_Last6m</th>\n",
       "    </tr>\n",
       "  </thead>\n",
       "  <tbody>\n",
       "    <tr>\n",
       "      <th>0</th>\n",
       "      <td>20000</td>\n",
       "      <td>2</td>\n",
       "      <td>2</td>\n",
       "      <td>1</td>\n",
       "      <td>24</td>\n",
       "      <td>2</td>\n",
       "      <td>2</td>\n",
       "      <td>-1</td>\n",
       "      <td>-1</td>\n",
       "      <td>-2</td>\n",
       "      <td>...</td>\n",
       "      <td>0.0</td>\n",
       "      <td>689.0</td>\n",
       "      <td>0</td>\n",
       "      <td>0.0</td>\n",
       "      <td>0.0</td>\n",
       "      <td>0.0</td>\n",
       "      <td>114.833333</td>\n",
       "      <td>689.0</td>\n",
       "      <td>1284.000000</td>\n",
       "      <td>3913.0</td>\n",
       "    </tr>\n",
       "    <tr>\n",
       "      <th>1</th>\n",
       "      <td>120000</td>\n",
       "      <td>2</td>\n",
       "      <td>2</td>\n",
       "      <td>2</td>\n",
       "      <td>26</td>\n",
       "      <td>-1</td>\n",
       "      <td>2</td>\n",
       "      <td>0</td>\n",
       "      <td>0</td>\n",
       "      <td>0</td>\n",
       "      <td>...</td>\n",
       "      <td>0.0</td>\n",
       "      <td>1000.0</td>\n",
       "      <td>1000</td>\n",
       "      <td>1000.0</td>\n",
       "      <td>0.0</td>\n",
       "      <td>2000.0</td>\n",
       "      <td>833.333333</td>\n",
       "      <td>2000.0</td>\n",
       "      <td>2846.166667</td>\n",
       "      <td>3455.0</td>\n",
       "    </tr>\n",
       "    <tr>\n",
       "      <th>2</th>\n",
       "      <td>90000</td>\n",
       "      <td>2</td>\n",
       "      <td>2</td>\n",
       "      <td>2</td>\n",
       "      <td>34</td>\n",
       "      <td>0</td>\n",
       "      <td>0</td>\n",
       "      <td>0</td>\n",
       "      <td>0</td>\n",
       "      <td>0</td>\n",
       "      <td>...</td>\n",
       "      <td>1518.0</td>\n",
       "      <td>1500.0</td>\n",
       "      <td>1000</td>\n",
       "      <td>1000.0</td>\n",
       "      <td>1000.0</td>\n",
       "      <td>5000.0</td>\n",
       "      <td>1836.333333</td>\n",
       "      <td>5000.0</td>\n",
       "      <td>16942.166667</td>\n",
       "      <td>29239.0</td>\n",
       "    </tr>\n",
       "    <tr>\n",
       "      <th>3</th>\n",
       "      <td>50000</td>\n",
       "      <td>2</td>\n",
       "      <td>2</td>\n",
       "      <td>1</td>\n",
       "      <td>37</td>\n",
       "      <td>0</td>\n",
       "      <td>0</td>\n",
       "      <td>0</td>\n",
       "      <td>0</td>\n",
       "      <td>0</td>\n",
       "      <td>...</td>\n",
       "      <td>2000.0</td>\n",
       "      <td>2019.0</td>\n",
       "      <td>1200</td>\n",
       "      <td>1100.0</td>\n",
       "      <td>1069.0</td>\n",
       "      <td>1000.0</td>\n",
       "      <td>1398.000000</td>\n",
       "      <td>2019.0</td>\n",
       "      <td>38555.666667</td>\n",
       "      <td>49291.0</td>\n",
       "    </tr>\n",
       "    <tr>\n",
       "      <th>4</th>\n",
       "      <td>50000</td>\n",
       "      <td>1</td>\n",
       "      <td>2</td>\n",
       "      <td>1</td>\n",
       "      <td>57</td>\n",
       "      <td>-1</td>\n",
       "      <td>0</td>\n",
       "      <td>-1</td>\n",
       "      <td>0</td>\n",
       "      <td>0</td>\n",
       "      <td>...</td>\n",
       "      <td>2000.0</td>\n",
       "      <td>36681.0</td>\n",
       "      <td>10000</td>\n",
       "      <td>9000.0</td>\n",
       "      <td>689.0</td>\n",
       "      <td>679.0</td>\n",
       "      <td>9841.500000</td>\n",
       "      <td>36681.0</td>\n",
       "      <td>18223.166667</td>\n",
       "      <td>35835.0</td>\n",
       "    </tr>\n",
       "  </tbody>\n",
       "</table>\n",
       "<p>5 rows × 27 columns</p>\n",
       "</div>"
      ],
      "text/plain": [
       "   LIMIT_BAL  SEX  EDUCATION  MARRIAGE  AGE  PAY_0  PAY_2  PAY_3  PAY_4  \\\n",
       "0      20000    2          2         1   24      2      2     -1     -1   \n",
       "1     120000    2          2         2   26     -1      2      0      0   \n",
       "2      90000    2          2         2   34      0      0      0      0   \n",
       "3      50000    2          2         1   37      0      0      0      0   \n",
       "4      50000    1          2         1   57     -1      0     -1      0   \n",
       "\n",
       "   PAY_5  ...  PAY_AMT1  PAY_AMT2  PAY_AMT3  PAY_AMT4  PAY_AMT5  PAY_AMT6  \\\n",
       "0     -2  ...       0.0     689.0         0       0.0       0.0       0.0   \n",
       "1      0  ...       0.0    1000.0      1000    1000.0       0.0    2000.0   \n",
       "2      0  ...    1518.0    1500.0      1000    1000.0    1000.0    5000.0   \n",
       "3      0  ...    2000.0    2019.0      1200    1100.0    1069.0    1000.0   \n",
       "4      0  ...    2000.0   36681.0     10000    9000.0     689.0     679.0   \n",
       "\n",
       "   Avg_Pay_Last6m  Max_Pay_Last6m  Avg_Bill_Amt_Last6m  Max_Bill_Amt_Last6m  \n",
       "0      114.833333           689.0          1284.000000               3913.0  \n",
       "1      833.333333          2000.0          2846.166667               3455.0  \n",
       "2     1836.333333          5000.0         16942.166667              29239.0  \n",
       "3     1398.000000          2019.0         38555.666667              49291.0  \n",
       "4     9841.500000         36681.0         18223.166667              35835.0  \n",
       "\n",
       "[5 rows x 27 columns]"
      ]
     },
     "execution_count": 16,
     "metadata": {},
     "output_type": "execute_result"
    }
   ],
   "source": [
    "X['Avg_Pay_Last6m']=(X['PAY_AMT1']+X['PAY_AMT2']+X['PAY_AMT3']+X['PAY_AMT4']+X['PAY_AMT5']+X['PAY_AMT6'])/6\n",
    "X['Max_Pay_Last6m']=X[['PAY_AMT1','PAY_AMT2','PAY_AMT3','PAY_AMT4','PAY_AMT5','PAY_AMT6']].max(axis=1)\n",
    "X['Avg_Bill_Amt_Last6m']=(X['BILL_AMT1']+X['BILL_AMT2']+X['BILL_AMT3']+X['BILL_AMT4']+X['BILL_AMT5']+X['BILL_AMT6'])/6\n",
    "X['Max_Bill_Amt_Last6m']=X[['BILL_AMT1','BILL_AMT2','BILL_AMT3','BILL_AMT4','BILL_AMT5','BILL_AMT6']].max(axis=1)\n",
    "X.head()"
   ]
  },
  {
   "cell_type": "code",
   "execution_count": 17,
   "metadata": {},
   "outputs": [
    {
     "data": {
      "text/plain": [
       "LIMIT_BAL              0\n",
       "SEX                    0\n",
       "EDUCATION              0\n",
       "MARRIAGE               0\n",
       "AGE                    0\n",
       "PAY_0                  0\n",
       "PAY_2                  0\n",
       "PAY_3                  0\n",
       "PAY_4                  0\n",
       "PAY_5                  0\n",
       "PAY_6                  0\n",
       "BILL_AMT1              0\n",
       "BILL_AMT2              0\n",
       "BILL_AMT3              0\n",
       "BILL_AMT4              0\n",
       "BILL_AMT5              0\n",
       "BILL_AMT6              0\n",
       "PAY_AMT1               0\n",
       "PAY_AMT2               0\n",
       "PAY_AMT3               0\n",
       "PAY_AMT4               0\n",
       "PAY_AMT5               0\n",
       "PAY_AMT6               0\n",
       "Avg_Pay_Last6m         0\n",
       "Max_Pay_Last6m         0\n",
       "Avg_Bill_Amt_Last6m    0\n",
       "Max_Bill_Amt_Last6m    0\n",
       "dtype: int64"
      ]
     },
     "execution_count": 17,
     "metadata": {},
     "output_type": "execute_result"
    }
   ],
   "source": [
    "X.isnull().sum()"
   ]
  },
  {
   "cell_type": "markdown",
   "metadata": {},
   "source": [
    "# Next step for us is to create buckets/bins to study the ranks and plots"
   ]
  },
  {
   "cell_type": "code",
   "execution_count": 18,
   "metadata": {},
   "outputs": [
    {
     "name": "stderr",
     "output_type": "stream",
     "text": [
      "C:\\Users\\Akilan\\anaconda3\\lib\\site-packages\\sklearn\\preprocessing\\_discretization.py:200: UserWarning: Bins whose width are too small (i.e., <= 1e-8) in feature 1 are removed. Consider decreasing the number of bins.\n",
      "  warnings.warn('Bins whose width are too small (i.e., <= '\n",
      "C:\\Users\\Akilan\\anaconda3\\lib\\site-packages\\sklearn\\preprocessing\\_discretization.py:200: UserWarning: Bins whose width are too small (i.e., <= 1e-8) in feature 2 are removed. Consider decreasing the number of bins.\n",
      "  warnings.warn('Bins whose width are too small (i.e., <= '\n",
      "C:\\Users\\Akilan\\anaconda3\\lib\\site-packages\\sklearn\\preprocessing\\_discretization.py:200: UserWarning: Bins whose width are too small (i.e., <= 1e-8) in feature 3 are removed. Consider decreasing the number of bins.\n",
      "  warnings.warn('Bins whose width are too small (i.e., <= '\n",
      "C:\\Users\\Akilan\\anaconda3\\lib\\site-packages\\sklearn\\preprocessing\\_discretization.py:200: UserWarning: Bins whose width are too small (i.e., <= 1e-8) in feature 5 are removed. Consider decreasing the number of bins.\n",
      "  warnings.warn('Bins whose width are too small (i.e., <= '\n",
      "C:\\Users\\Akilan\\anaconda3\\lib\\site-packages\\sklearn\\preprocessing\\_discretization.py:200: UserWarning: Bins whose width are too small (i.e., <= 1e-8) in feature 6 are removed. Consider decreasing the number of bins.\n",
      "  warnings.warn('Bins whose width are too small (i.e., <= '\n",
      "C:\\Users\\Akilan\\anaconda3\\lib\\site-packages\\sklearn\\preprocessing\\_discretization.py:200: UserWarning: Bins whose width are too small (i.e., <= 1e-8) in feature 7 are removed. Consider decreasing the number of bins.\n",
      "  warnings.warn('Bins whose width are too small (i.e., <= '\n",
      "C:\\Users\\Akilan\\anaconda3\\lib\\site-packages\\sklearn\\preprocessing\\_discretization.py:200: UserWarning: Bins whose width are too small (i.e., <= 1e-8) in feature 8 are removed. Consider decreasing the number of bins.\n",
      "  warnings.warn('Bins whose width are too small (i.e., <= '\n",
      "C:\\Users\\Akilan\\anaconda3\\lib\\site-packages\\sklearn\\preprocessing\\_discretization.py:200: UserWarning: Bins whose width are too small (i.e., <= 1e-8) in feature 9 are removed. Consider decreasing the number of bins.\n",
      "  warnings.warn('Bins whose width are too small (i.e., <= '\n",
      "C:\\Users\\Akilan\\anaconda3\\lib\\site-packages\\sklearn\\preprocessing\\_discretization.py:200: UserWarning: Bins whose width are too small (i.e., <= 1e-8) in feature 10 are removed. Consider decreasing the number of bins.\n",
      "  warnings.warn('Bins whose width are too small (i.e., <= '\n",
      "C:\\Users\\Akilan\\anaconda3\\lib\\site-packages\\sklearn\\preprocessing\\_discretization.py:200: UserWarning: Bins whose width are too small (i.e., <= 1e-8) in feature 17 are removed. Consider decreasing the number of bins.\n",
      "  warnings.warn('Bins whose width are too small (i.e., <= '\n",
      "C:\\Users\\Akilan\\anaconda3\\lib\\site-packages\\sklearn\\preprocessing\\_discretization.py:200: UserWarning: Bins whose width are too small (i.e., <= 1e-8) in feature 18 are removed. Consider decreasing the number of bins.\n",
      "  warnings.warn('Bins whose width are too small (i.e., <= '\n",
      "C:\\Users\\Akilan\\anaconda3\\lib\\site-packages\\sklearn\\preprocessing\\_discretization.py:200: UserWarning: Bins whose width are too small (i.e., <= 1e-8) in feature 19 are removed. Consider decreasing the number of bins.\n",
      "  warnings.warn('Bins whose width are too small (i.e., <= '\n",
      "C:\\Users\\Akilan\\anaconda3\\lib\\site-packages\\sklearn\\preprocessing\\_discretization.py:200: UserWarning: Bins whose width are too small (i.e., <= 1e-8) in feature 20 are removed. Consider decreasing the number of bins.\n",
      "  warnings.warn('Bins whose width are too small (i.e., <= '\n",
      "C:\\Users\\Akilan\\anaconda3\\lib\\site-packages\\sklearn\\preprocessing\\_discretization.py:200: UserWarning: Bins whose width are too small (i.e., <= 1e-8) in feature 21 are removed. Consider decreasing the number of bins.\n",
      "  warnings.warn('Bins whose width are too small (i.e., <= '\n",
      "C:\\Users\\Akilan\\anaconda3\\lib\\site-packages\\sklearn\\preprocessing\\_discretization.py:200: UserWarning: Bins whose width are too small (i.e., <= 1e-8) in feature 22 are removed. Consider decreasing the number of bins.\n",
      "  warnings.warn('Bins whose width are too small (i.e., <= '\n"
     ]
    }
   ],
   "source": [
    "from sklearn.preprocessing import KBinsDiscretizer\n",
    "discrete=KBinsDiscretizer(n_bins=10,encode='ordinal', strategy='quantile')\n",
    "X_binned=pd.DataFrame(discrete.fit_transform(X),index=X.index, columns=X.columns).add_suffix('_Rank')"
   ]
  },
  {
   "cell_type": "code",
   "execution_count": 20,
   "metadata": {
    "scrolled": true
   },
   "outputs": [
    {
     "data": {
      "text/html": [
       "<div>\n",
       "<style scoped>\n",
       "    .dataframe tbody tr th:only-of-type {\n",
       "        vertical-align: middle;\n",
       "    }\n",
       "\n",
       "    .dataframe tbody tr th {\n",
       "        vertical-align: top;\n",
       "    }\n",
       "\n",
       "    .dataframe thead th {\n",
       "        text-align: right;\n",
       "    }\n",
       "</style>\n",
       "<table border=\"1\" class=\"dataframe\">\n",
       "  <thead>\n",
       "    <tr style=\"text-align: right;\">\n",
       "      <th></th>\n",
       "      <th>LIMIT_BAL_Rank</th>\n",
       "      <th>SEX_Rank</th>\n",
       "      <th>EDUCATION_Rank</th>\n",
       "      <th>MARRIAGE_Rank</th>\n",
       "      <th>AGE_Rank</th>\n",
       "      <th>PAY_0_Rank</th>\n",
       "      <th>PAY_2_Rank</th>\n",
       "      <th>PAY_3_Rank</th>\n",
       "      <th>PAY_4_Rank</th>\n",
       "      <th>PAY_5_Rank</th>\n",
       "      <th>...</th>\n",
       "      <th>PAY_AMT1_Rank</th>\n",
       "      <th>PAY_AMT2_Rank</th>\n",
       "      <th>PAY_AMT3_Rank</th>\n",
       "      <th>PAY_AMT4_Rank</th>\n",
       "      <th>PAY_AMT5_Rank</th>\n",
       "      <th>PAY_AMT6_Rank</th>\n",
       "      <th>Avg_Pay_Last6m_Rank</th>\n",
       "      <th>Max_Pay_Last6m_Rank</th>\n",
       "      <th>Avg_Bill_Amt_Last6m_Rank</th>\n",
       "      <th>Max_Bill_Amt_Last6m_Rank</th>\n",
       "    </tr>\n",
       "  </thead>\n",
       "  <tbody>\n",
       "    <tr>\n",
       "      <th>0</th>\n",
       "      <td>0.0</td>\n",
       "      <td>0.0</td>\n",
       "      <td>1.0</td>\n",
       "      <td>0.0</td>\n",
       "      <td>0.0</td>\n",
       "      <td>4.0</td>\n",
       "      <td>3.0</td>\n",
       "      <td>1.0</td>\n",
       "      <td>1.0</td>\n",
       "      <td>0.0</td>\n",
       "      <td>...</td>\n",
       "      <td>0.0</td>\n",
       "      <td>1.0</td>\n",
       "      <td>0.0</td>\n",
       "      <td>0.0</td>\n",
       "      <td>0.0</td>\n",
       "      <td>0.0</td>\n",
       "      <td>0.0</td>\n",
       "      <td>0.0</td>\n",
       "      <td>1.0</td>\n",
       "      <td>1.0</td>\n",
       "    </tr>\n",
       "    <tr>\n",
       "      <th>1</th>\n",
       "      <td>4.0</td>\n",
       "      <td>0.0</td>\n",
       "      <td>1.0</td>\n",
       "      <td>1.0</td>\n",
       "      <td>1.0</td>\n",
       "      <td>1.0</td>\n",
       "      <td>3.0</td>\n",
       "      <td>2.0</td>\n",
       "      <td>2.0</td>\n",
       "      <td>2.0</td>\n",
       "      <td>...</td>\n",
       "      <td>0.0</td>\n",
       "      <td>1.0</td>\n",
       "      <td>2.0</td>\n",
       "      <td>2.0</td>\n",
       "      <td>0.0</td>\n",
       "      <td>3.0</td>\n",
       "      <td>1.0</td>\n",
       "      <td>2.0</td>\n",
       "      <td>1.0</td>\n",
       "      <td>1.0</td>\n",
       "    </tr>\n",
       "    <tr>\n",
       "      <th>2</th>\n",
       "      <td>3.0</td>\n",
       "      <td>0.0</td>\n",
       "      <td>1.0</td>\n",
       "      <td>1.0</td>\n",
       "      <td>5.0</td>\n",
       "      <td>2.0</td>\n",
       "      <td>2.0</td>\n",
       "      <td>2.0</td>\n",
       "      <td>2.0</td>\n",
       "      <td>2.0</td>\n",
       "      <td>...</td>\n",
       "      <td>2.0</td>\n",
       "      <td>2.0</td>\n",
       "      <td>2.0</td>\n",
       "      <td>2.0</td>\n",
       "      <td>2.0</td>\n",
       "      <td>6.0</td>\n",
       "      <td>4.0</td>\n",
       "      <td>5.0</td>\n",
       "      <td>4.0</td>\n",
       "      <td>4.0</td>\n",
       "    </tr>\n",
       "    <tr>\n",
       "      <th>3</th>\n",
       "      <td>2.0</td>\n",
       "      <td>0.0</td>\n",
       "      <td>1.0</td>\n",
       "      <td>0.0</td>\n",
       "      <td>6.0</td>\n",
       "      <td>2.0</td>\n",
       "      <td>2.0</td>\n",
       "      <td>2.0</td>\n",
       "      <td>2.0</td>\n",
       "      <td>2.0</td>\n",
       "      <td>...</td>\n",
       "      <td>3.0</td>\n",
       "      <td>4.0</td>\n",
       "      <td>2.0</td>\n",
       "      <td>2.0</td>\n",
       "      <td>2.0</td>\n",
       "      <td>2.0</td>\n",
       "      <td>3.0</td>\n",
       "      <td>2.0</td>\n",
       "      <td>6.0</td>\n",
       "      <td>6.0</td>\n",
       "    </tr>\n",
       "    <tr>\n",
       "      <th>4</th>\n",
       "      <td>2.0</td>\n",
       "      <td>0.0</td>\n",
       "      <td>1.0</td>\n",
       "      <td>0.0</td>\n",
       "      <td>9.0</td>\n",
       "      <td>1.0</td>\n",
       "      <td>2.0</td>\n",
       "      <td>1.0</td>\n",
       "      <td>2.0</td>\n",
       "      <td>2.0</td>\n",
       "      <td>...</td>\n",
       "      <td>3.0</td>\n",
       "      <td>8.0</td>\n",
       "      <td>8.0</td>\n",
       "      <td>6.0</td>\n",
       "      <td>1.0</td>\n",
       "      <td>1.0</td>\n",
       "      <td>8.0</td>\n",
       "      <td>9.0</td>\n",
       "      <td>4.0</td>\n",
       "      <td>5.0</td>\n",
       "    </tr>\n",
       "  </tbody>\n",
       "</table>\n",
       "<p>5 rows × 27 columns</p>\n",
       "</div>"
      ],
      "text/plain": [
       "   LIMIT_BAL_Rank  SEX_Rank  EDUCATION_Rank  MARRIAGE_Rank  AGE_Rank  \\\n",
       "0             0.0       0.0             1.0            0.0       0.0   \n",
       "1             4.0       0.0             1.0            1.0       1.0   \n",
       "2             3.0       0.0             1.0            1.0       5.0   \n",
       "3             2.0       0.0             1.0            0.0       6.0   \n",
       "4             2.0       0.0             1.0            0.0       9.0   \n",
       "\n",
       "   PAY_0_Rank  PAY_2_Rank  PAY_3_Rank  PAY_4_Rank  PAY_5_Rank  ...  \\\n",
       "0         4.0         3.0         1.0         1.0         0.0  ...   \n",
       "1         1.0         3.0         2.0         2.0         2.0  ...   \n",
       "2         2.0         2.0         2.0         2.0         2.0  ...   \n",
       "3         2.0         2.0         2.0         2.0         2.0  ...   \n",
       "4         1.0         2.0         1.0         2.0         2.0  ...   \n",
       "\n",
       "   PAY_AMT1_Rank  PAY_AMT2_Rank  PAY_AMT3_Rank  PAY_AMT4_Rank  PAY_AMT5_Rank  \\\n",
       "0            0.0            1.0            0.0            0.0            0.0   \n",
       "1            0.0            1.0            2.0            2.0            0.0   \n",
       "2            2.0            2.0            2.0            2.0            2.0   \n",
       "3            3.0            4.0            2.0            2.0            2.0   \n",
       "4            3.0            8.0            8.0            6.0            1.0   \n",
       "\n",
       "   PAY_AMT6_Rank  Avg_Pay_Last6m_Rank  Max_Pay_Last6m_Rank  \\\n",
       "0            0.0                  0.0                  0.0   \n",
       "1            3.0                  1.0                  2.0   \n",
       "2            6.0                  4.0                  5.0   \n",
       "3            2.0                  3.0                  2.0   \n",
       "4            1.0                  8.0                  9.0   \n",
       "\n",
       "   Avg_Bill_Amt_Last6m_Rank  Max_Bill_Amt_Last6m_Rank  \n",
       "0                       1.0                       1.0  \n",
       "1                       1.0                       1.0  \n",
       "2                       4.0                       4.0  \n",
       "3                       6.0                       6.0  \n",
       "4                       4.0                       5.0  \n",
       "\n",
       "[5 rows x 27 columns]"
      ]
     },
     "execution_count": 20,
     "metadata": {},
     "output_type": "execute_result"
    }
   ],
   "source": [
    "X_binned.head()"
   ]
  },
  {
   "cell_type": "markdown",
   "metadata": {},
   "source": [
    "# join the Binned dataframe with the Dependent so that we can carry out BiVariate Analysis"
   ]
  },
  {
   "cell_type": "code",
   "execution_count": 21,
   "metadata": {
    "scrolled": true
   },
   "outputs": [
    {
     "data": {
      "text/html": [
       "<div>\n",
       "<style scoped>\n",
       "    .dataframe tbody tr th:only-of-type {\n",
       "        vertical-align: middle;\n",
       "    }\n",
       "\n",
       "    .dataframe tbody tr th {\n",
       "        vertical-align: top;\n",
       "    }\n",
       "\n",
       "    .dataframe thead th {\n",
       "        text-align: right;\n",
       "    }\n",
       "</style>\n",
       "<table border=\"1\" class=\"dataframe\">\n",
       "  <thead>\n",
       "    <tr style=\"text-align: right;\">\n",
       "      <th></th>\n",
       "      <th>default</th>\n",
       "      <th>LIMIT_BAL_Rank</th>\n",
       "      <th>SEX_Rank</th>\n",
       "      <th>EDUCATION_Rank</th>\n",
       "      <th>MARRIAGE_Rank</th>\n",
       "      <th>AGE_Rank</th>\n",
       "      <th>PAY_0_Rank</th>\n",
       "      <th>PAY_2_Rank</th>\n",
       "      <th>PAY_3_Rank</th>\n",
       "      <th>PAY_4_Rank</th>\n",
       "      <th>...</th>\n",
       "      <th>PAY_AMT1_Rank</th>\n",
       "      <th>PAY_AMT2_Rank</th>\n",
       "      <th>PAY_AMT3_Rank</th>\n",
       "      <th>PAY_AMT4_Rank</th>\n",
       "      <th>PAY_AMT5_Rank</th>\n",
       "      <th>PAY_AMT6_Rank</th>\n",
       "      <th>Avg_Pay_Last6m_Rank</th>\n",
       "      <th>Max_Pay_Last6m_Rank</th>\n",
       "      <th>Avg_Bill_Amt_Last6m_Rank</th>\n",
       "      <th>Max_Bill_Amt_Last6m_Rank</th>\n",
       "    </tr>\n",
       "  </thead>\n",
       "  <tbody>\n",
       "    <tr>\n",
       "      <th>0</th>\n",
       "      <td>1</td>\n",
       "      <td>0.0</td>\n",
       "      <td>0.0</td>\n",
       "      <td>1.0</td>\n",
       "      <td>0.0</td>\n",
       "      <td>0.0</td>\n",
       "      <td>4.0</td>\n",
       "      <td>3.0</td>\n",
       "      <td>1.0</td>\n",
       "      <td>1.0</td>\n",
       "      <td>...</td>\n",
       "      <td>0.0</td>\n",
       "      <td>1.0</td>\n",
       "      <td>0.0</td>\n",
       "      <td>0.0</td>\n",
       "      <td>0.0</td>\n",
       "      <td>0.0</td>\n",
       "      <td>0.0</td>\n",
       "      <td>0.0</td>\n",
       "      <td>1.0</td>\n",
       "      <td>1.0</td>\n",
       "    </tr>\n",
       "    <tr>\n",
       "      <th>1</th>\n",
       "      <td>1</td>\n",
       "      <td>4.0</td>\n",
       "      <td>0.0</td>\n",
       "      <td>1.0</td>\n",
       "      <td>1.0</td>\n",
       "      <td>1.0</td>\n",
       "      <td>1.0</td>\n",
       "      <td>3.0</td>\n",
       "      <td>2.0</td>\n",
       "      <td>2.0</td>\n",
       "      <td>...</td>\n",
       "      <td>0.0</td>\n",
       "      <td>1.0</td>\n",
       "      <td>2.0</td>\n",
       "      <td>2.0</td>\n",
       "      <td>0.0</td>\n",
       "      <td>3.0</td>\n",
       "      <td>1.0</td>\n",
       "      <td>2.0</td>\n",
       "      <td>1.0</td>\n",
       "      <td>1.0</td>\n",
       "    </tr>\n",
       "    <tr>\n",
       "      <th>2</th>\n",
       "      <td>0</td>\n",
       "      <td>3.0</td>\n",
       "      <td>0.0</td>\n",
       "      <td>1.0</td>\n",
       "      <td>1.0</td>\n",
       "      <td>5.0</td>\n",
       "      <td>2.0</td>\n",
       "      <td>2.0</td>\n",
       "      <td>2.0</td>\n",
       "      <td>2.0</td>\n",
       "      <td>...</td>\n",
       "      <td>2.0</td>\n",
       "      <td>2.0</td>\n",
       "      <td>2.0</td>\n",
       "      <td>2.0</td>\n",
       "      <td>2.0</td>\n",
       "      <td>6.0</td>\n",
       "      <td>4.0</td>\n",
       "      <td>5.0</td>\n",
       "      <td>4.0</td>\n",
       "      <td>4.0</td>\n",
       "    </tr>\n",
       "    <tr>\n",
       "      <th>3</th>\n",
       "      <td>0</td>\n",
       "      <td>2.0</td>\n",
       "      <td>0.0</td>\n",
       "      <td>1.0</td>\n",
       "      <td>0.0</td>\n",
       "      <td>6.0</td>\n",
       "      <td>2.0</td>\n",
       "      <td>2.0</td>\n",
       "      <td>2.0</td>\n",
       "      <td>2.0</td>\n",
       "      <td>...</td>\n",
       "      <td>3.0</td>\n",
       "      <td>4.0</td>\n",
       "      <td>2.0</td>\n",
       "      <td>2.0</td>\n",
       "      <td>2.0</td>\n",
       "      <td>2.0</td>\n",
       "      <td>3.0</td>\n",
       "      <td>2.0</td>\n",
       "      <td>6.0</td>\n",
       "      <td>6.0</td>\n",
       "    </tr>\n",
       "    <tr>\n",
       "      <th>4</th>\n",
       "      <td>0</td>\n",
       "      <td>2.0</td>\n",
       "      <td>0.0</td>\n",
       "      <td>1.0</td>\n",
       "      <td>0.0</td>\n",
       "      <td>9.0</td>\n",
       "      <td>1.0</td>\n",
       "      <td>2.0</td>\n",
       "      <td>1.0</td>\n",
       "      <td>2.0</td>\n",
       "      <td>...</td>\n",
       "      <td>3.0</td>\n",
       "      <td>8.0</td>\n",
       "      <td>8.0</td>\n",
       "      <td>6.0</td>\n",
       "      <td>1.0</td>\n",
       "      <td>1.0</td>\n",
       "      <td>8.0</td>\n",
       "      <td>9.0</td>\n",
       "      <td>4.0</td>\n",
       "      <td>5.0</td>\n",
       "    </tr>\n",
       "  </tbody>\n",
       "</table>\n",
       "<p>5 rows × 28 columns</p>\n",
       "</div>"
      ],
      "text/plain": [
       "   default  LIMIT_BAL_Rank  SEX_Rank  EDUCATION_Rank  MARRIAGE_Rank  AGE_Rank  \\\n",
       "0        1             0.0       0.0             1.0            0.0       0.0   \n",
       "1        1             4.0       0.0             1.0            1.0       1.0   \n",
       "2        0             3.0       0.0             1.0            1.0       5.0   \n",
       "3        0             2.0       0.0             1.0            0.0       6.0   \n",
       "4        0             2.0       0.0             1.0            0.0       9.0   \n",
       "\n",
       "   PAY_0_Rank  PAY_2_Rank  PAY_3_Rank  PAY_4_Rank  ...  PAY_AMT1_Rank  \\\n",
       "0         4.0         3.0         1.0         1.0  ...            0.0   \n",
       "1         1.0         3.0         2.0         2.0  ...            0.0   \n",
       "2         2.0         2.0         2.0         2.0  ...            2.0   \n",
       "3         2.0         2.0         2.0         2.0  ...            3.0   \n",
       "4         1.0         2.0         1.0         2.0  ...            3.0   \n",
       "\n",
       "   PAY_AMT2_Rank  PAY_AMT3_Rank  PAY_AMT4_Rank  PAY_AMT5_Rank  PAY_AMT6_Rank  \\\n",
       "0            1.0            0.0            0.0            0.0            0.0   \n",
       "1            1.0            2.0            2.0            0.0            3.0   \n",
       "2            2.0            2.0            2.0            2.0            6.0   \n",
       "3            4.0            2.0            2.0            2.0            2.0   \n",
       "4            8.0            8.0            6.0            1.0            1.0   \n",
       "\n",
       "   Avg_Pay_Last6m_Rank  Max_Pay_Last6m_Rank  Avg_Bill_Amt_Last6m_Rank  \\\n",
       "0                  0.0                  0.0                       1.0   \n",
       "1                  1.0                  2.0                       1.0   \n",
       "2                  4.0                  5.0                       4.0   \n",
       "3                  3.0                  2.0                       6.0   \n",
       "4                  8.0                  9.0                       4.0   \n",
       "\n",
       "   Max_Bill_Amt_Last6m_Rank  \n",
       "0                       1.0  \n",
       "1                       1.0  \n",
       "2                       4.0  \n",
       "3                       6.0  \n",
       "4                       5.0  \n",
       "\n",
       "[5 rows x 28 columns]"
      ]
     },
     "execution_count": 21,
     "metadata": {},
     "output_type": "execute_result"
    }
   ],
   "source": [
    "X_bin_combined=pd.concat([Y,X_binned],axis=1,join='inner')\n",
    "X_bin_combined.head()"
   ]
  },
  {
   "cell_type": "code",
   "execution_count": 22,
   "metadata": {},
   "outputs": [
    {
     "data": {
      "text/plain": [
       "0.2212"
      ]
     },
     "execution_count": 22,
     "metadata": {},
     "output_type": "execute_result"
    }
   ],
   "source": [
    "X_bin_combined['default'].mean()"
   ]
  },
  {
   "cell_type": "code",
   "execution_count": 23,
   "metadata": {},
   "outputs": [
    {
     "name": "stderr",
     "output_type": "stream",
     "text": [
      "<ipython-input-23-95634d2de0ab>:4: RuntimeWarning: More than 20 figures have been opened. Figures created through the pyplot interface (`matplotlib.pyplot.figure`) are retained until explicitly closed and may consume too much memory. (To control this warning, see the rcParam `figure.max_open_warning`).\n",
      "  plt.figure()\n"
     ]
    },
    {
     "data": {
      "image/png": "[encoded data removed]",
      "text/plain": [
       "<Figure size 432x288 with 1 Axes>"
      ]
     },
     "metadata": {
      "needs_background": "light"
     },
     "output_type": "display_data"
    },
    {
     "data": {
      "image/png": "[encoded data removed]",
      "text/plain": [
       "<Figure size 432x288 with 1 Axes>"
      ]
     },
     "metadata": {
      "needs_background": "light"
     },
     "output_type": "display_data"
    },
    {
     "data": {
      "image/png": "[encoded data removed]",
      "text/plain": [
       "<Figure size 432x288 with 1 Axes>"
      ]
     },
     "metadata": {
      "needs_background": "light"
     },
     "output_type": "display_data"
    },
    {
     "data": {
      "image/png": "[encoded data removed]",
      "text/plain": [
       "<Figure size 432x288 with 1 Axes>"
      ]
     },
     "metadata": {
      "needs_background": "light"
     },
     "output_type": "display_data"
    },
    {
     "data": {
      "image/png": "[encoded data removed]",
      "text/plain": [
       "<Figure size 432x288 with 1 Axes>"
      ]
     },
     "metadata": {
      "needs_background": "light"
     },
     "output_type": "display_data"
    },
    {
     "data": {
      "image/png": "[encoded data removed]",
      "text/plain": [
       "<Figure size 432x288 with 1 Axes>"
      ]
     },
     "metadata": {
      "needs_background": "light"
     },
     "output_type": "display_data"
    },
    {
     "data": {
      "image/png": "[encoded data removed]",
      "text/plain": [
       "<Figure size 432x288 with 1 Axes>"
      ]
     },
     "metadata": {
      "needs_background": "light"
     },
     "output_type": "display_data"
    },
    {
     "data": {
      "image/png": "[encoded data removed]",
      "text/plain": [
       "<Figure size 432x288 with 1 Axes>"
      ]
     },
     "metadata": {
      "needs_background": "light"
     },
     "output_type": "display_data"
    },
    {
     "data": {
      "image/png": "[encoded data removed]",
      "text/plain": [
       "<Figure size 432x288 with 1 Axes>"
      ]
     },
     "metadata": {
      "needs_background": "light"
     },
     "output_type": "display_data"
    },
    {
     "data": {
      "image/png": "[encoded data removed]",
      "text/plain": [
       "<Figure size 432x288 with 1 Axes>"
      ]
     },
     "metadata": {
      "needs_background": "light"
     },
     "output_type": "display_data"
    },
    {
     "data": {
      "image/png": "[encoded data removed]",
      "text/plain": [
       "<Figure size 432x288 with 1 Axes>"
      ]
     },
     "metadata": {
      "needs_background": "light"
     },
     "output_type": "display_data"
    },
    {
     "data": {
      "image/png": "[encoded data removed]",
      "text/plain": [
       "<Figure size 432x288 with 1 Axes>"
      ]
     },
     "metadata": {
      "needs_background": "light"
     },
     "output_type": "display_data"
    },
    {
     "data": {
      "image/png": "[encoded data removed]",
      "text/plain": [
       "<Figure size 432x288 with 1 Axes>"
      ]
     },
     "metadata": {
      "needs_background": "light"
     },
     "output_type": "display_data"
    },
    {
     "data": {
      "image/png": "[encoded data removed]",
      "text/plain": [
       "<Figure size 432x288 with 1 Axes>"
      ]
     },
     "metadata": {
      "needs_background": "light"
     },
     "output_type": "display_data"
    },
    {
     "data": {
      "image/png": "[encoded data removed]",
      "text/plain": [
       "<Figure size 432x288 with 1 Axes>"
      ]
     },
     "metadata": {
      "needs_background": "light"
     },
     "output_type": "display_data"
    },
    {
     "data": {
      "image/png": "[encoded data removed]",
      "text/plain": [
       "<Figure size 432x288 with 1 Axes>"
      ]
     },
     "metadata": {
      "needs_background": "light"
     },
     "output_type": "display_data"
    },
    {
     "data": {
      "image/png": "[encoded data removed]",
      "text/plain": [
       "<Figure size 432x288 with 1 Axes>"
      ]
     },
     "metadata": {
      "needs_background": "light"
     },
     "output_type": "display_data"
    },
    {
     "data": {
      "image/png": "[encoded data removed]",
      "text/plain": [
       "<Figure size 432x288 with 1 Axes>"
      ]
     },
     "metadata": {
      "needs_background": "light"
     },
     "output_type": "display_data"
    },
    {
     "data": {
      "image/png": "[encoded data removed]",
      "text/plain": [
       "<Figure size 432x288 with 1 Axes>"
      ]
     },
     "metadata": {
      "needs_background": "light"
     },
     "output_type": "display_data"
    },
    {
     "data": {
      "image/png": "[encoded data removed]",
      "text/plain": [
       "<Figure size 432x288 with 1 Axes>"
      ]
     },
     "metadata": {
      "needs_background": "light"
     },
     "output_type": "display_data"
    },
    {
     "data": {
      "image/png": "[encoded data removed]",
      "text/plain": [
       "<Figure size 432x288 with 1 Axes>"
      ]
     },
     "metadata": {
      "needs_background": "light"
     },
     "output_type": "display_data"
    },
    {
     "data": {
      "image/png": "[encoded data removed]",
      "text/plain": [
       "<Figure size 432x288 with 1 Axes>"
      ]
     },
     "metadata": {
      "needs_background": "light"
     },
     "output_type": "display_data"
    },
    {
     "data": {
      "image/png": "[encoded data removed]",
      "text/plain": [
       "<Figure size 432x288 with 1 Axes>"
      ]
     },
     "metadata": {
      "needs_background": "light"
     },
     "output_type": "display_data"
    },
    {
     "data": {
      "image/png": "[encoded data removed]",
      "text/plain": [
       "<Figure size 432x288 with 1 Axes>"
      ]
     },
     "metadata": {
      "needs_background": "light"
     },
     "output_type": "display_data"
    },
    {
     "data": {
      "image/png": "[encoded data removed]",
      "text/plain": [
       "<Figure size 432x288 with 1 Axes>"
      ]
     },
     "metadata": {
      "needs_background": "light"
     },
     "output_type": "display_data"
    },
    {
     "data": {
      "image/png": "[encoded data removed]",
      "text/plain": [
       "<Figure size 432x288 with 1 Axes>"
      ]
     },
     "metadata": {
      "needs_background": "light"
     },
     "output_type": "display_data"
    },
    {
     "data": {
      "image/png": "[encoded data removed]",
      "text/plain": [
       "<Figure size 432x288 with 1 Axes>"
      ]
     },
     "metadata": {
      "needs_background": "light"
     },
     "output_type": "display_data"
    },
    {
     "data": {
      "image/png": "[encoded data removed]",
      "text/plain": [
       "<Figure size 432x288 with 1 Axes>"
      ]
     },
     "metadata": {
      "needs_background": "light"
     },
     "output_type": "display_data"
    }
   ],
   "source": [
    "import matplotlib.pyplot as plt\n",
    "from numpy import mean\n",
    "for col in (X_bin_combined.columns):\n",
    "    plt.figure()\n",
    "    sns.barplot(x=col, y=\"default\",data=X_bin_combined, estimator=mean )\n",
    "plt.show()"
   ]
  },
  {
   "cell_type": "markdown",
   "metadata": {},
   "source": [
    "# Since Billing Amt is not the strong a discriminator, Let us try to create a variable that shows a recent spike or fall in spend\n",
    "# There ia a term called FRUT - Financial Revolving Unsecured Trade\n",
    "# In FRUT businesses, it is important to analyze Out of pattern behaviour"
   ]
  },
  {
   "cell_type": "code",
   "execution_count": 24,
   "metadata": {},
   "outputs": [],
   "source": [
    "X['OOP_spend1']=(X['BILL_AMT1']/X['Avg_Pay_Last6m']).fillna(0)\n",
    "X['OOP_spend2']=(X['BILL_AMT2']/X['Avg_Pay_Last6m']).fillna(0)\n",
    "X['OOP_spend3']=(X['BILL_AMT3']/X['Avg_Pay_Last6m']).fillna(0)"
   ]
  },
  {
   "cell_type": "markdown",
   "metadata": {},
   "source": [
    "# Let's check its efficacy as a predictor"
   ]
  },
  {
   "cell_type": "code",
   "execution_count": 25,
   "metadata": {},
   "outputs": [],
   "source": [
    "X['OOP_spend_rank1']=pd.qcut(X['OOP_spend1'].rank(method='first').values,10,duplicates='drop').codes+1\n",
    "X['OOP_spend_rank2']=pd.qcut(X['OOP_spend2'].rank(method='first').values,10,duplicates='drop').codes+1\n",
    "X['OOP_spend_rank3']=pd.qcut(X['OOP_spend3'].rank(method='first').values,10,duplicates='drop').codes+1\n",
    "X_all=pd.concat([Y,X], axis=1, join='inner')"
   ]
  },
  {
   "cell_type": "code",
   "execution_count": 26,
   "metadata": {},
   "outputs": [
    {
     "data": {
      "image/png": "[encoded data removed]",
      "text/plain": [
       "<Figure size 432x288 with 1 Axes>"
      ]
     },
     "metadata": {
      "needs_background": "light"
     },
     "output_type": "display_data"
    }
   ],
   "source": [
    "ax=sns.barplot(x=\"OOP_spend_rank3\", y=\"default\", data=X_all, estimator=mean)"
   ]
  },
  {
   "cell_type": "code",
   "execution_count": 27,
   "metadata": {},
   "outputs": [
    {
     "data": {
      "text/plain": [
       "OOP_spend_rank3\n",
       "1     0.229000\n",
       "2     0.158667\n",
       "3     0.155000\n",
       "4     0.152667\n",
       "5     0.170667\n",
       "6     0.243000\n",
       "7     0.279000\n",
       "8     0.264000\n",
       "9     0.240333\n",
       "10    0.319667\n",
       "Name: default, dtype: float64"
      ]
     },
     "execution_count": 27,
     "metadata": {},
     "output_type": "execute_result"
    }
   ],
   "source": [
    "X_all.groupby('OOP_spend_rank3')['default'].mean()"
   ]
  },
  {
   "cell_type": "code",
   "execution_count": 28,
   "metadata": {},
   "outputs": [
    {
     "data": {
      "text/plain": [
       "OOP_custom_bin\n",
       "0    0.2692\n",
       "1    0.1732\n",
       "Name: default, dtype: float64"
      ]
     },
     "execution_count": 28,
     "metadata": {},
     "output_type": "execute_result"
    }
   ],
   "source": [
    "X_all['OOP_custom_bin']=np.where(X['OOP_spend_rank3']<=5,1,0)\n",
    "X_all.groupby('OOP_custom_bin')['default'].mean()"
   ]
  },
  {
   "cell_type": "code",
   "execution_count": 29,
   "metadata": {},
   "outputs": [
    {
     "data": {
      "text/plain": [
       "default                  int64\n",
       "LIMIT_BAL                int64\n",
       "SEX                      int64\n",
       "EDUCATION                int64\n",
       "MARRIAGE                 int64\n",
       "AGE                      int64\n",
       "PAY_0                    int64\n",
       "PAY_2                    int64\n",
       "PAY_3                    int64\n",
       "PAY_4                    int64\n",
       "PAY_5                    int64\n",
       "PAY_6                    int64\n",
       "BILL_AMT1              float64\n",
       "BILL_AMT2              float64\n",
       "BILL_AMT3              float64\n",
       "BILL_AMT4              float64\n",
       "BILL_AMT5              float64\n",
       "BILL_AMT6              float64\n",
       "PAY_AMT1               float64\n",
       "PAY_AMT2               float64\n",
       "PAY_AMT3                 int64\n",
       "PAY_AMT4               float64\n",
       "PAY_AMT5               float64\n",
       "PAY_AMT6               float64\n",
       "Avg_Pay_Last6m         float64\n",
       "Max_Pay_Last6m         float64\n",
       "Avg_Bill_Amt_Last6m    float64\n",
       "Max_Bill_Amt_Last6m    float64\n",
       "OOP_spend1             float64\n",
       "OOP_spend2             float64\n",
       "OOP_spend3             float64\n",
       "OOP_spend_rank1           int8\n",
       "OOP_spend_rank2           int8\n",
       "OOP_spend_rank3           int8\n",
       "OOP_custom_bin           int32\n",
       "dtype: object"
      ]
     },
     "execution_count": 29,
     "metadata": {},
     "output_type": "execute_result"
    }
   ],
   "source": [
    "X_all.dtypes"
   ]
  },
  {
   "cell_type": "code",
   "execution_count": 30,
   "metadata": {},
   "outputs": [
    {
     "data": {
      "text/plain": [
       "default    0.2212\n",
       "dtype: float64"
      ]
     },
     "execution_count": 30,
     "metadata": {},
     "output_type": "execute_result"
    }
   ],
   "source": [
    "#indep=['OOP_custom_bin','Avg_Pay_Last6m','LIMIT_BAL','PAY_0','PAY_2','PAY_3','PAY_4','PAY_5']\n",
    "indep=['PAY_0','PAY_2','PAY_3','PAY_4','PAY_5','PAY_AMT1','PAY_AMT2','PAY_AMT3','PAY_AMT4','PAY_AMT5','PAY_AMT6','OOP_custom_bin']\n",
    "dep=['default']\n",
    "X_indep=X_all[indep]\n",
    "Y_dep=X_all[dep]\n",
    "Y_dep.mean()"
   ]
  },
  {
   "cell_type": "markdown",
   "metadata": {},
   "source": [
    "# Let's now check and remove the statistically insignificant variables/features"
   ]
  },
  {
   "cell_type": "code",
   "execution_count": 31,
   "metadata": {
    "scrolled": true
   },
   "outputs": [
    {
     "name": "stdout",
     "output_type": "stream",
     "text": [
      "Optimization terminated successfully.\n",
      "         Current function value: 0.501291\n",
      "         Iterations 7\n",
      "                         Results: Logit\n",
      "=================================================================\n",
      "Model:              Logit            Pseudo R-squared: 0.051     \n",
      "Dependent Variable: default          AIC:              30101.4750\n",
      "Date:               2020-12-02 08:43 BIC:              30201.1825\n",
      "No. Observations:   30000            Log-Likelihood:   -15039.   \n",
      "Df Model:           11               LL-Null:          -15853.   \n",
      "Df Residuals:       29988            LLR p-value:      0.0000    \n",
      "Converged:          1.0000           Scale:            1.0000    \n",
      "No. Iterations:     7.0000                                       \n",
      "-----------------------------------------------------------------\n",
      "                  Coef.  Std.Err.    z     P>|z|   [0.025  0.975]\n",
      "-----------------------------------------------------------------\n",
      "PAY_0             0.4099   0.0168  24.3430 0.0000  0.3769  0.4430\n",
      "PAY_2            -0.0004   0.0204  -0.0198 0.9842 -0.0403  0.0395\n",
      "PAY_3             0.0405   0.0231   1.7501 0.0801 -0.0049  0.0858\n",
      "PAY_4             0.0450   0.0250   1.7950 0.0726 -0.0041  0.0940\n",
      "PAY_5             0.1169   0.0221   5.2831 0.0000  0.0735  0.1603\n",
      "PAY_AMT1         -0.0001   0.0000 -14.6468 0.0000 -0.0001 -0.0001\n",
      "PAY_AMT2         -0.0001   0.0000 -13.7983 0.0000 -0.0001 -0.0001\n",
      "PAY_AMT3         -0.0000   0.0000  -8.2282 0.0000 -0.0000 -0.0000\n",
      "PAY_AMT4         -0.0000   0.0000  -6.3665 0.0000 -0.0000 -0.0000\n",
      "PAY_AMT5         -0.0000   0.0000  -7.2591 0.0000 -0.0000 -0.0000\n",
      "PAY_AMT6         -0.0000   0.0000  -5.3674 0.0000 -0.0000 -0.0000\n",
      "OOP_custom_bin   -0.5638   0.0303 -18.6334 0.0000 -0.6231 -0.5045\n",
      "=================================================================\n",
      "\n"
     ]
    }
   ],
   "source": [
    "import statsmodels.api as sm\n",
    "logit_model=sm.Logit(Y_dep,X_indep)\n",
    "result=logit_model.fit()\n",
    "print(result.summary2())"
   ]
  },
  {
   "cell_type": "code",
   "execution_count": 32,
   "metadata": {},
   "outputs": [
    {
     "data": {
      "text/plain": [
       "default    0.2212\n",
       "dtype: float64"
      ]
     },
     "execution_count": 32,
     "metadata": {},
     "output_type": "execute_result"
    }
   ],
   "source": [
    "#indep=['OOP_custom_bin','Avg_Pay_Last6m','LIMIT_BAL','PAY_0','PAY_2','PAY_3','PAY_4','PAY_5']\n",
    "indep=['OOP_custom_bin','PAY_0','PAY_5','PAY_AMT1','PAY_AMT2','PAY_AMT3','PAY_AMT4','PAY_AMT5','PAY_AMT6','Avg_Pay_Last6m','LIMIT_BAL']\n",
    "dep=['default']\n",
    "X_indep=X_all[indep]\n",
    "Y_dep=X_all[dep]\n",
    "Y_dep.mean()"
   ]
  },
  {
   "cell_type": "markdown",
   "metadata": {},
   "source": [
    "# Train Test Split"
   ]
  },
  {
   "cell_type": "code",
   "execution_count": 33,
   "metadata": {},
   "outputs": [],
   "source": [
    "from sklearn.model_selection import train_test_split\n",
    "X_train, X_test, y_train, y_test =  train_test_split(X_indep,Y_dep, test_size=0.3,random_state=42)"
   ]
  },
  {
   "cell_type": "markdown",
   "metadata": {},
   "source": [
    "# Check for randomness of train and test by testing the event rates across the two datasets"
   ]
  },
  {
   "cell_type": "code",
   "execution_count": 34,
   "metadata": {},
   "outputs": [
    {
     "data": {
      "text/plain": [
       "default    0.222667\n",
       "dtype: float64"
      ]
     },
     "execution_count": 34,
     "metadata": {},
     "output_type": "execute_result"
    }
   ],
   "source": [
    "y_train.mean()"
   ]
  },
  {
   "cell_type": "code",
   "execution_count": 35,
   "metadata": {},
   "outputs": [
    {
     "data": {
      "text/plain": [
       "default    0.217778\n",
       "dtype: float64"
      ]
     },
     "execution_count": 35,
     "metadata": {},
     "output_type": "execute_result"
    }
   ],
   "source": [
    "y_test.mean()"
   ]
  },
  {
   "cell_type": "code",
   "execution_count": 36,
   "metadata": {},
   "outputs": [
    {
     "data": {
      "text/plain": [
       "(9000, 11)"
      ]
     },
     "execution_count": 36,
     "metadata": {},
     "output_type": "execute_result"
    }
   ],
   "source": [
    "X_test.shape"
   ]
  },
  {
   "cell_type": "markdown",
   "metadata": {},
   "source": [
    "# Logistic Regression"
   ]
  },
  {
   "cell_type": "code",
   "execution_count": 37,
   "metadata": {},
   "outputs": [
    {
     "data": {
      "text/plain": [
       "DecisionTreeClassifier(max_depth=7, min_samples_leaf=200, random_state=100)"
      ]
     },
     "execution_count": 37,
     "metadata": {},
     "output_type": "execute_result"
    }
   ],
   "source": [
    "from sklearn.tree import DecisionTreeClassifier\n",
    "dtree = DecisionTreeClassifier(criterion = \"gini\", random_state = 100,max_depth=7, min_samples_leaf=200)\n",
    "dtree.fit(X_train, y_train)"
   ]
  },
  {
   "cell_type": "code",
   "execution_count": 38,
   "metadata": {},
   "outputs": [
    {
     "data": {
      "text/plain": [
       "0.8208571428571428"
      ]
     },
     "execution_count": 38,
     "metadata": {},
     "output_type": "execute_result"
    }
   ],
   "source": [
    "dtree.score(X_train,y_train)"
   ]
  },
  {
   "cell_type": "code",
   "execution_count": 39,
   "metadata": {},
   "outputs": [
    {
     "data": {
      "text/plain": [
       "0.8164444444444444"
      ]
     },
     "execution_count": 39,
     "metadata": {},
     "output_type": "execute_result"
    }
   ],
   "source": [
    "dtree.score(X_test,y_test)"
   ]
  },
  {
   "cell_type": "code",
   "execution_count": 40,
   "metadata": {},
   "outputs": [],
   "source": [
    "from sklearn import metrics\n",
    "y_pred_dtree=dtree.predict(X_test)\n"
   ]
  },
  {
   "cell_type": "code",
   "execution_count": 41,
   "metadata": {},
   "outputs": [
    {
     "name": "stderr",
     "output_type": "stream",
     "text": [
      "C:\\Users\\Akilan\\anaconda3\\lib\\site-packages\\sklearn\\utils\\validation.py:73: DataConversionWarning: A column-vector y was passed when a 1d array was expected. Please change the shape of y to (n_samples, ), for example using ravel().\n",
      "  return f(**kwargs)\n"
     ]
    },
    {
     "data": {
      "text/plain": [
       "LogisticRegression()"
      ]
     },
     "execution_count": 41,
     "metadata": {},
     "output_type": "execute_result"
    }
   ],
   "source": [
    "from sklearn.linear_model import LogisticRegression\n",
    "logreg=LogisticRegression()\n",
    "logreg.fit(X_train,y_train)"
   ]
  },
  {
   "cell_type": "code",
   "execution_count": 42,
   "metadata": {},
   "outputs": [
    {
     "data": {
      "text/plain": [
       "0.8086666666666666"
      ]
     },
     "execution_count": 42,
     "metadata": {},
     "output_type": "execute_result"
    }
   ],
   "source": [
    "logreg.score(X_train,y_train)"
   ]
  },
  {
   "cell_type": "code",
   "execution_count": 43,
   "metadata": {},
   "outputs": [
    {
     "data": {
      "text/plain": [
       "0.8081111111111111"
      ]
     },
     "execution_count": 43,
     "metadata": {},
     "output_type": "execute_result"
    }
   ],
   "source": [
    "logreg.score(X_test,y_test)"
   ]
  },
  {
   "cell_type": "code",
   "execution_count": 44,
   "metadata": {},
   "outputs": [
    {
     "data": {
      "text/plain": [
       "array([[6655,  385],\n",
       "       [1267,  693]], dtype=int64)"
      ]
     },
     "execution_count": 44,
     "metadata": {},
     "output_type": "execute_result"
    }
   ],
   "source": [
    "y_pred=logreg.predict(X_test)\n",
    "metrics.confusion_matrix(y_test, y_pred_dtree)"
   ]
  },
  {
   "cell_type": "code",
   "execution_count": 45,
   "metadata": {},
   "outputs": [
    {
     "data": {
      "text/html": [
       "<div>\n",
       "<style scoped>\n",
       "    .dataframe tbody tr th:only-of-type {\n",
       "        vertical-align: middle;\n",
       "    }\n",
       "\n",
       "    .dataframe tbody tr th {\n",
       "        vertical-align: top;\n",
       "    }\n",
       "\n",
       "    .dataframe thead th {\n",
       "        text-align: right;\n",
       "    }\n",
       "</style>\n",
       "<table border=\"1\" class=\"dataframe\">\n",
       "  <thead>\n",
       "    <tr style=\"text-align: right;\">\n",
       "      <th></th>\n",
       "      <th>P_Rank_RF</th>\n",
       "      <th>count</th>\n",
       "      <th>mean</th>\n",
       "      <th>N_events</th>\n",
       "      <th>cum_events</th>\n",
       "      <th>event_cap</th>\n",
       "      <th>cum_event_cap</th>\n",
       "      <th>random_cap</th>\n",
       "      <th>cum_random_cap</th>\n",
       "      <th>decile</th>\n",
       "    </tr>\n",
       "  </thead>\n",
       "  <tbody>\n",
       "    <tr>\n",
       "      <th>0</th>\n",
       "      <td>10</td>\n",
       "      <td>3000</td>\n",
       "      <td>0.699667</td>\n",
       "      <td>2099.0</td>\n",
       "      <td>2099.0</td>\n",
       "      <td>0.316305</td>\n",
       "      <td>0.316305</td>\n",
       "      <td>0.1</td>\n",
       "      <td>0.1</td>\n",
       "      <td>1</td>\n",
       "    </tr>\n",
       "    <tr>\n",
       "      <th>1</th>\n",
       "      <td>9</td>\n",
       "      <td>3000</td>\n",
       "      <td>0.405000</td>\n",
       "      <td>1215.0</td>\n",
       "      <td>3314.0</td>\n",
       "      <td>0.183092</td>\n",
       "      <td>0.499397</td>\n",
       "      <td>0.1</td>\n",
       "      <td>0.2</td>\n",
       "      <td>2</td>\n",
       "    </tr>\n",
       "    <tr>\n",
       "      <th>2</th>\n",
       "      <td>8</td>\n",
       "      <td>3000</td>\n",
       "      <td>0.266333</td>\n",
       "      <td>799.0</td>\n",
       "      <td>4113.0</td>\n",
       "      <td>0.120404</td>\n",
       "      <td>0.619801</td>\n",
       "      <td>0.1</td>\n",
       "      <td>0.3</td>\n",
       "      <td>3</td>\n",
       "    </tr>\n",
       "    <tr>\n",
       "      <th>3</th>\n",
       "      <td>7</td>\n",
       "      <td>3000</td>\n",
       "      <td>0.192333</td>\n",
       "      <td>577.0</td>\n",
       "      <td>4690.0</td>\n",
       "      <td>0.086950</td>\n",
       "      <td>0.706751</td>\n",
       "      <td>0.1</td>\n",
       "      <td>0.4</td>\n",
       "      <td>4</td>\n",
       "    </tr>\n",
       "    <tr>\n",
       "      <th>4</th>\n",
       "      <td>6</td>\n",
       "      <td>3000</td>\n",
       "      <td>0.170333</td>\n",
       "      <td>511.0</td>\n",
       "      <td>5201.0</td>\n",
       "      <td>0.077004</td>\n",
       "      <td>0.783755</td>\n",
       "      <td>0.1</td>\n",
       "      <td>0.5</td>\n",
       "      <td>5</td>\n",
       "    </tr>\n",
       "    <tr>\n",
       "      <th>5</th>\n",
       "      <td>5</td>\n",
       "      <td>3000</td>\n",
       "      <td>0.134000</td>\n",
       "      <td>402.0</td>\n",
       "      <td>5603.0</td>\n",
       "      <td>0.060579</td>\n",
       "      <td>0.844334</td>\n",
       "      <td>0.1</td>\n",
       "      <td>0.6</td>\n",
       "      <td>6</td>\n",
       "    </tr>\n",
       "    <tr>\n",
       "      <th>6</th>\n",
       "      <td>4</td>\n",
       "      <td>3000</td>\n",
       "      <td>0.096000</td>\n",
       "      <td>288.0</td>\n",
       "      <td>5891.0</td>\n",
       "      <td>0.043400</td>\n",
       "      <td>0.887734</td>\n",
       "      <td>0.1</td>\n",
       "      <td>0.7</td>\n",
       "      <td>7</td>\n",
       "    </tr>\n",
       "    <tr>\n",
       "      <th>7</th>\n",
       "      <td>3</td>\n",
       "      <td>3000</td>\n",
       "      <td>0.072000</td>\n",
       "      <td>216.0</td>\n",
       "      <td>6107.0</td>\n",
       "      <td>0.032550</td>\n",
       "      <td>0.920283</td>\n",
       "      <td>0.1</td>\n",
       "      <td>0.8</td>\n",
       "      <td>8</td>\n",
       "    </tr>\n",
       "    <tr>\n",
       "      <th>8</th>\n",
       "      <td>2</td>\n",
       "      <td>3000</td>\n",
       "      <td>0.085667</td>\n",
       "      <td>257.0</td>\n",
       "      <td>6364.0</td>\n",
       "      <td>0.038728</td>\n",
       "      <td>0.959011</td>\n",
       "      <td>0.1</td>\n",
       "      <td>0.9</td>\n",
       "      <td>9</td>\n",
       "    </tr>\n",
       "    <tr>\n",
       "      <th>9</th>\n",
       "      <td>1</td>\n",
       "      <td>3000</td>\n",
       "      <td>0.090667</td>\n",
       "      <td>272.0</td>\n",
       "      <td>6636.0</td>\n",
       "      <td>0.040989</td>\n",
       "      <td>1.000000</td>\n",
       "      <td>0.1</td>\n",
       "      <td>1.0</td>\n",
       "      <td>10</td>\n",
       "    </tr>\n",
       "  </tbody>\n",
       "</table>\n",
       "</div>"
      ],
      "text/plain": [
       "   P_Rank_RF  count      mean  N_events  cum_events  event_cap  cum_event_cap  \\\n",
       "0         10   3000  0.699667    2099.0      2099.0   0.316305       0.316305   \n",
       "1          9   3000  0.405000    1215.0      3314.0   0.183092       0.499397   \n",
       "2          8   3000  0.266333     799.0      4113.0   0.120404       0.619801   \n",
       "3          7   3000  0.192333     577.0      4690.0   0.086950       0.706751   \n",
       "4          6   3000  0.170333     511.0      5201.0   0.077004       0.783755   \n",
       "5          5   3000  0.134000     402.0      5603.0   0.060579       0.844334   \n",
       "6          4   3000  0.096000     288.0      5891.0   0.043400       0.887734   \n",
       "7          3   3000  0.072000     216.0      6107.0   0.032550       0.920283   \n",
       "8          2   3000  0.085667     257.0      6364.0   0.038728       0.959011   \n",
       "9          1   3000  0.090667     272.0      6636.0   0.040989       1.000000   \n",
       "\n",
       "   random_cap  cum_random_cap  decile  \n",
       "0         0.1             0.1       1  \n",
       "1         0.1             0.2       2  \n",
       "2         0.1             0.3       3  \n",
       "3         0.1             0.4       4  \n",
       "4         0.1             0.5       5  \n",
       "5         0.1             0.6       6  \n",
       "6         0.1             0.7       7  \n",
       "7         0.1             0.8       8  \n",
       "8         0.1             0.9       9  \n",
       "9         0.1             1.0      10  "
      ]
     },
     "execution_count": 45,
     "metadata": {},
     "output_type": "execute_result"
    }
   ],
   "source": [
    "y_pred_prob = dtree.predict_proba(X_indep)[:, 1]\n",
    "X_all['y_pred_P']=pd.DataFrame(y_pred_prob)\n",
    "X_all['P_Rank_RF']=pd.qcut(X_all['y_pred_P'].rank(method='first').values,10,duplicates='drop').codes+1\n",
    "rank_df=X_all.groupby('P_Rank_RF')['default'].agg(['count','mean'])\n",
    "rank_df=pd.DataFrame(rank_df)\n",
    "sorted_rank_df=rank_df.sort_values(by='P_Rank_RF',ascending=False)\n",
    "sorted_rank_df['N_events']=rank_df['count']*rank_df['mean']\n",
    "sorted_rank_df['cum_events']=sorted_rank_df['N_events'].cumsum()\n",
    "sorted_rank_df['event_cap']=sorted_rank_df['N_events']/max(sorted_rank_df['N_events'].cumsum())\n",
    "sorted_rank_df['cum_event_cap']=sorted_rank_df['event_cap'].cumsum()\n",
    "sorted_rank_df['random_cap']=sorted_rank_df['count']/max(sorted_rank_df['count'].cumsum())\n",
    "sorted_rank_df['cum_random_cap']=sorted_rank_df['random_cap'].cumsum()\n",
    "sorted_reindexed=sorted_rank_df.reset_index()\n",
    "sorted_reindexed['decile']=sorted_reindexed.index+1\n",
    "sorted_reindexed"
   ]
  },
  {
   "cell_type": "code",
   "execution_count": 46,
   "metadata": {},
   "outputs": [
    {
     "name": "stdout",
     "output_type": "stream",
     "text": [
      "Accuracy: 0.8081111111111111\n",
      "Precision: 0.6093896713615023\n",
      "Recall: 0.3311224489795918\n"
     ]
    }
   ],
   "source": [
    "from sklearn import metrics\n",
    "print(\"Accuracy:\",metrics.accuracy_score(y_test, y_pred))\n",
    "print(\"Precision:\",metrics.precision_score(y_test, y_pred))\n",
    "print(\"Recall:\",metrics.recall_score(y_test, y_pred))"
   ]
  },
  {
   "cell_type": "code",
   "execution_count": 49,
   "metadata": {},
   "outputs": [
    {
     "data": {
      "text/plain": [
       "array([[6624,  416],\n",
       "       [1311,  649]], dtype=int64)"
      ]
     },
     "execution_count": 49,
     "metadata": {},
     "output_type": "execute_result"
    }
   ],
   "source": [
    "cnf_matrix = metrics.confusion_matrix(y_test, y_pred)\n",
    "cnf_matrix"
   ]
  },
  {
   "cell_type": "code",
   "execution_count": 50,
   "metadata": {},
   "outputs": [],
   "source": [
    "#7273 - Correct Classification\n",
    "#1727 - Incorrest Classification\n",
    "\n",
    "#Accuracy - 7273/(7273+1727) = 0.80811"
   ]
  },
  {
   "cell_type": "code",
   "execution_count": 47,
   "metadata": {},
   "outputs": [
    {
     "data": {
      "text/plain": [
       "0.8812008463459527"
      ]
     },
     "execution_count": 47,
     "metadata": {},
     "output_type": "execute_result"
    }
   ],
   "source": [
    "y_preicted_probability=logreg.predict_proba(X_test)[:,1].max()\n",
    "y_preicted_probability"
   ]
  },
  {
   "cell_type": "code",
   "execution_count": 52,
   "metadata": {},
   "outputs": [],
   "source": [
    "# Potential interview question - If the maximum predicted never goes above 0.5, then what can you expect the precision to be?\n",
    "# Precision will be 0 since the model cannot assign any row as a predicted event"
   ]
  },
  {
   "cell_type": "code",
   "execution_count": 53,
   "metadata": {},
   "outputs": [],
   "source": [
    "# In the above scenario,  can the model have a good accuracy? If yes, then how? \n",
    "# Accuracy may be high. It is possible because the model will predict almost all of the negative/non events correctly.\n",
    "# In other words, the model will have a high true negative rate. "
   ]
  },
  {
   "cell_type": "markdown",
   "metadata": {},
   "source": [
    "# Next Step is to build our Gains Chart"
   ]
  },
  {
   "cell_type": "code",
   "execution_count": 48,
   "metadata": {},
   "outputs": [
    {
     "data": {
      "text/html": [
       "<div>\n",
       "<style scoped>\n",
       "    .dataframe tbody tr th:only-of-type {\n",
       "        vertical-align: middle;\n",
       "    }\n",
       "\n",
       "    .dataframe tbody tr th {\n",
       "        vertical-align: top;\n",
       "    }\n",
       "\n",
       "    .dataframe thead th {\n",
       "        text-align: right;\n",
       "    }\n",
       "</style>\n",
       "<table border=\"1\" class=\"dataframe\">\n",
       "  <thead>\n",
       "    <tr style=\"text-align: right;\">\n",
       "      <th></th>\n",
       "      <th>P_Rank_RF</th>\n",
       "      <th>count</th>\n",
       "      <th>mean</th>\n",
       "      <th>N_events</th>\n",
       "      <th>cum_events</th>\n",
       "      <th>event_cap</th>\n",
       "      <th>cum_event_cap</th>\n",
       "      <th>random_cap</th>\n",
       "      <th>cum_random_cap</th>\n",
       "      <th>decile</th>\n",
       "    </tr>\n",
       "  </thead>\n",
       "  <tbody>\n",
       "    <tr>\n",
       "      <th>0</th>\n",
       "      <td>10</td>\n",
       "      <td>3000</td>\n",
       "      <td>0.653000</td>\n",
       "      <td>1959.0</td>\n",
       "      <td>1959.0</td>\n",
       "      <td>0.295208</td>\n",
       "      <td>0.295208</td>\n",
       "      <td>0.1</td>\n",
       "      <td>0.1</td>\n",
       "      <td>1</td>\n",
       "    </tr>\n",
       "    <tr>\n",
       "      <th>1</th>\n",
       "      <td>9</td>\n",
       "      <td>3000</td>\n",
       "      <td>0.360000</td>\n",
       "      <td>1080.0</td>\n",
       "      <td>3039.0</td>\n",
       "      <td>0.162749</td>\n",
       "      <td>0.457957</td>\n",
       "      <td>0.1</td>\n",
       "      <td>0.2</td>\n",
       "      <td>2</td>\n",
       "    </tr>\n",
       "    <tr>\n",
       "      <th>2</th>\n",
       "      <td>8</td>\n",
       "      <td>3000</td>\n",
       "      <td>0.198000</td>\n",
       "      <td>594.0</td>\n",
       "      <td>3633.0</td>\n",
       "      <td>0.089512</td>\n",
       "      <td>0.547468</td>\n",
       "      <td>0.1</td>\n",
       "      <td>0.3</td>\n",
       "      <td>3</td>\n",
       "    </tr>\n",
       "    <tr>\n",
       "      <th>3</th>\n",
       "      <td>7</td>\n",
       "      <td>3000</td>\n",
       "      <td>0.185333</td>\n",
       "      <td>556.0</td>\n",
       "      <td>4189.0</td>\n",
       "      <td>0.083785</td>\n",
       "      <td>0.631254</td>\n",
       "      <td>0.1</td>\n",
       "      <td>0.4</td>\n",
       "      <td>4</td>\n",
       "    </tr>\n",
       "    <tr>\n",
       "      <th>4</th>\n",
       "      <td>6</td>\n",
       "      <td>3000</td>\n",
       "      <td>0.167333</td>\n",
       "      <td>502.0</td>\n",
       "      <td>4691.0</td>\n",
       "      <td>0.075648</td>\n",
       "      <td>0.706902</td>\n",
       "      <td>0.1</td>\n",
       "      <td>0.5</td>\n",
       "      <td>5</td>\n",
       "    </tr>\n",
       "    <tr>\n",
       "      <th>5</th>\n",
       "      <td>5</td>\n",
       "      <td>3000</td>\n",
       "      <td>0.163333</td>\n",
       "      <td>490.0</td>\n",
       "      <td>5181.0</td>\n",
       "      <td>0.073840</td>\n",
       "      <td>0.780741</td>\n",
       "      <td>0.1</td>\n",
       "      <td>0.6</td>\n",
       "      <td>6</td>\n",
       "    </tr>\n",
       "    <tr>\n",
       "      <th>6</th>\n",
       "      <td>4</td>\n",
       "      <td>3000</td>\n",
       "      <td>0.148333</td>\n",
       "      <td>445.0</td>\n",
       "      <td>5626.0</td>\n",
       "      <td>0.067058</td>\n",
       "      <td>0.847800</td>\n",
       "      <td>0.1</td>\n",
       "      <td>0.7</td>\n",
       "      <td>7</td>\n",
       "    </tr>\n",
       "    <tr>\n",
       "      <th>7</th>\n",
       "      <td>3</td>\n",
       "      <td>3000</td>\n",
       "      <td>0.127667</td>\n",
       "      <td>383.0</td>\n",
       "      <td>6009.0</td>\n",
       "      <td>0.057715</td>\n",
       "      <td>0.905515</td>\n",
       "      <td>0.1</td>\n",
       "      <td>0.8</td>\n",
       "      <td>8</td>\n",
       "    </tr>\n",
       "    <tr>\n",
       "      <th>8</th>\n",
       "      <td>2</td>\n",
       "      <td>3000</td>\n",
       "      <td>0.133000</td>\n",
       "      <td>399.0</td>\n",
       "      <td>6408.0</td>\n",
       "      <td>0.060127</td>\n",
       "      <td>0.965642</td>\n",
       "      <td>0.1</td>\n",
       "      <td>0.9</td>\n",
       "      <td>9</td>\n",
       "    </tr>\n",
       "    <tr>\n",
       "      <th>9</th>\n",
       "      <td>1</td>\n",
       "      <td>3000</td>\n",
       "      <td>0.076000</td>\n",
       "      <td>228.0</td>\n",
       "      <td>6636.0</td>\n",
       "      <td>0.034358</td>\n",
       "      <td>1.000000</td>\n",
       "      <td>0.1</td>\n",
       "      <td>1.0</td>\n",
       "      <td>10</td>\n",
       "    </tr>\n",
       "  </tbody>\n",
       "</table>\n",
       "</div>"
      ],
      "text/plain": [
       "   P_Rank_RF  count      mean  N_events  cum_events  event_cap  cum_event_cap  \\\n",
       "0         10   3000  0.653000    1959.0      1959.0   0.295208       0.295208   \n",
       "1          9   3000  0.360000    1080.0      3039.0   0.162749       0.457957   \n",
       "2          8   3000  0.198000     594.0      3633.0   0.089512       0.547468   \n",
       "3          7   3000  0.185333     556.0      4189.0   0.083785       0.631254   \n",
       "4          6   3000  0.167333     502.0      4691.0   0.075648       0.706902   \n",
       "5          5   3000  0.163333     490.0      5181.0   0.073840       0.780741   \n",
       "6          4   3000  0.148333     445.0      5626.0   0.067058       0.847800   \n",
       "7          3   3000  0.127667     383.0      6009.0   0.057715       0.905515   \n",
       "8          2   3000  0.133000     399.0      6408.0   0.060127       0.965642   \n",
       "9          1   3000  0.076000     228.0      6636.0   0.034358       1.000000   \n",
       "\n",
       "   random_cap  cum_random_cap  decile  \n",
       "0         0.1             0.1       1  \n",
       "1         0.1             0.2       2  \n",
       "2         0.1             0.3       3  \n",
       "3         0.1             0.4       4  \n",
       "4         0.1             0.5       5  \n",
       "5         0.1             0.6       6  \n",
       "6         0.1             0.7       7  \n",
       "7         0.1             0.8       8  \n",
       "8         0.1             0.9       9  \n",
       "9         0.1             1.0      10  "
      ]
     },
     "execution_count": 48,
     "metadata": {},
     "output_type": "execute_result"
    }
   ],
   "source": [
    "y_pred_prob = logreg.predict_proba(X_indep)[:, 1]\n",
    "X_all['y_pred_P']=pd.DataFrame(y_pred_prob)\n",
    "X_all['P_Rank_RF']=pd.qcut(X_all['y_pred_P'].rank(method='first').values,10,duplicates='drop').codes+1\n",
    "rank_df=X_all.groupby('P_Rank_RF')['default'].agg(['count','mean'])\n",
    "rank_df=pd.DataFrame(rank_df)\n",
    "sorted_rank_df=rank_df.sort_values(by='P_Rank_RF',ascending=False)\n",
    "sorted_rank_df['N_events']=rank_df['count']*rank_df['mean']\n",
    "sorted_rank_df['cum_events']=sorted_rank_df['N_events'].cumsum()\n",
    "sorted_rank_df['event_cap']=sorted_rank_df['N_events']/max(sorted_rank_df['N_events'].cumsum())\n",
    "sorted_rank_df['cum_event_cap']=sorted_rank_df['event_cap'].cumsum()\n",
    "sorted_rank_df['random_cap']=sorted_rank_df['count']/max(sorted_rank_df['count'].cumsum())\n",
    "sorted_rank_df['cum_random_cap']=sorted_rank_df['random_cap'].cumsum()\n",
    "sorted_reindexed=sorted_rank_df.reset_index()\n",
    "sorted_reindexed['decile']=sorted_reindexed.index+1\n",
    "sorted_reindexed"
   ]
  },
  {
   "cell_type": "code",
   "execution_count": 49,
   "metadata": {},
   "outputs": [
    {
     "data": {
      "image/png": "[encoded data removed]",
      "text/plain": [
       "<Figure size 432x288 with 1 Axes>"
      ]
     },
     "metadata": {
      "needs_background": "light"
     },
     "output_type": "display_data"
    }
   ],
   "source": [
    "ax = sns.lineplot( x=\"decile\", y=\"cum_event_cap\", data=sorted_reindexed)\n",
    "ax = sns.lineplot( x=\"decile\", y=\"cum_random_cap\", data=sorted_reindexed)"
   ]
  },
  {
   "cell_type": "code",
   "execution_count": null,
   "metadata": {},
   "outputs": [],
   "source": []
  }
 ],
 "metadata": {
  "kernelspec": {
   "display_name": "Python 3",
   "language": "python",
   "name": "python3"
  },
  "language_info": {
   "codemirror_mode": {
    "name": "ipython",
    "version": 3
   },
   "file_extension": ".py",
   "mimetype": "text/x-python",
   "name": "python",
   "nbconvert_exporter": "python",
   "pygments_lexer": "ipython3",
   "version": "3.8.3"
  }
 },
 "nbformat": 4,
 "nbformat_minor": 2
}
