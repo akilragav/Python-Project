{
 "cells": [
  {
   "cell_type": "code",
   "execution_count": null,
   "metadata": {},
   "outputs": [],
   "source": [
    "import random\n",
    "name1 = input('Hi there! Enter your Name :\\t')\n",
    "print('Welcome {} , I am thinking a number between 1 and 100. Guess it.'.format(name1))\n",
    "\n",
    "def result():\n",
    "    if cnt <=2:\n",
    "        print('Excellent! {}, you found the number in {} guesses'.format(name1,cnt))\n",
    "    elif cnt > 2 and cnt <=5:\n",
    "        print('Good! {}, you found the number in {} guesses'.format(name1,cnt))\n",
    "    else:\n",
    "        print('{} found the number in {} guesses'.format(name1,cnt))\n",
    "\n",
    "def guessnumber():\n",
    "    global cnt\n",
    "    cnt=1\n",
    "    randnum1=random.randint(1,101)\n",
    "    while True:\n",
    "        gn=input()\n",
    "        \n",
    "        if gn.isdigit() == 1:\n",
    "            gn1=int(gn)\n",
    "            if randnum1 == gn1:\n",
    "                result()\n",
    "                return\n",
    "            else:\n",
    "                cnt+=1\n",
    "                if cnt%3 == 0 :\n",
    "                    if randnum1%5== 0:\n",
    "                        print('Clue : my number is divisible by 5')\n",
    "                    elif randnum1%2== 0:\n",
    "                        print('Clue : my number is divisible by 2')\n",
    "                if gn1 > randnum1:\n",
    "                    print('Guessed number is high')\n",
    "                else:\n",
    "                    print('Guessed number is low')\n",
    "        else:\n",
    "            print('Note : Enter only numbers')\n",
    "            continue\n",
    "\n",
    "\n",
    "\n",
    "while True:\n",
    "    guessnumber()\n",
    "    rplay=input('Do you want to guess again (y-yes|n-no)')\n",
    "    if rplay.upper() =='Y':\n",
    "        continue\n",
    "    else:\n",
    "        print('Thank you very much for playing')\n",
    "        break"
   ]
  },
  {
   "cell_type": "code",
   "execution_count": null,
   "metadata": {},
   "outputs": [],
   "source": []
  }
 ],
 "metadata": {
  "kernelspec": {
   "display_name": "Python 3",
   "language": "python",
   "name": "python3"
  },
  "language_info": {
   "codemirror_mode": {
    "name": "ipython",
    "version": 3
   },
   "file_extension": ".py",
   "mimetype": "text/x-python",
   "name": "python",
   "nbconvert_exporter": "python",
   "pygments_lexer": "ipython3",
   "version": "3.8.3"
  }
 },
 "nbformat": 4,
 "nbformat_minor": 4
}
